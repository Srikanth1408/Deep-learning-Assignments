{
 "cells": [
  {
   "cell_type": "markdown",
   "id": "bdcf988d",
   "metadata": {},
   "source": [
    "Assignment 5"
   ]
  },
  {
   "cell_type": "raw",
   "id": "85c57e67",
   "metadata": {},
   "source": [
    "I first ran RMS prop as it has to be done with lot of changes in further questions.\n",
    "Initially basic RMS prop is implemented, activation maps are visualized.\n",
    "Dropouts are applied with RMS prop with dropout rates 0.2,0.5,0.8.\n",
    "Next batch Normalization is implemented with dropout rate 0.2\n",
    "\n",
    "After this SGD is implemented\n",
    "Later on SGD with momentum is done.\n",
    "\n",
    "\n"
   ]
  },
  {
   "cell_type": "markdown",
   "id": "ca498fee",
   "metadata": {},
   "source": [
    "Q1,Q2,Q3,Q4,Q6,Q7"
   ]
  },
  {
   "cell_type": "code",
   "execution_count": 182,
   "id": "1a793af6",
   "metadata": {},
   "outputs": [],
   "source": [
    "import numpy as np\n",
    "import cv2\n",
    "import matplotlib.pyplot as plt\n",
    "import numpy as np\n",
    "import torch\n",
    "from torch import nn\n",
    "import torchvision\n",
    "import torchvision.datasets as datasets\n",
    "from torchvision import transforms\n",
    "import matplotlib.pyplot as plt"
   ]
  },
  {
   "cell_type": "code",
   "execution_count": 183,
   "id": "f1233774",
   "metadata": {},
   "outputs": [
    {
     "name": "stdout",
     "output_type": "stream",
     "text": [
      "1.10.0+cpu\n"
     ]
    }
   ],
   "source": [
    "print(torch.__version__)"
   ]
  },
  {
   "cell_type": "code",
   "execution_count": 184,
   "id": "e5757883",
   "metadata": {},
   "outputs": [
    {
     "data": {
      "text/plain": [
       "torch.Size([1, 28, 28])"
      ]
     },
     "execution_count": 184,
     "metadata": {},
     "output_type": "execute_result"
    }
   ],
   "source": [
    "transform = transforms.Compose([transforms.ToTensor(),\n",
    "                                transforms.Normalize((0.5,), (0.5,)),\n",
    "                                ])\n",
    "\n",
    "\n",
    "\n",
    "mnist_test = datasets.MNIST(root='D:\\Deep Learning', train=False, download=True, transform=transform)\n",
    "\n",
    "mnist_train = datasets.MNIST(root='D:\\Deep Learning', train=True, download=True, transform=transform)\n",
    "\n",
    "image1 = mnist_train[1][0]\n",
    "image1.shape"
   ]
  },
  {
   "cell_type": "code",
   "execution_count": 185,
   "id": "e0b4472b",
   "metadata": {},
   "outputs": [
    {
     "data": {
      "image/png": "[encoded data removed]",
      "text/plain": [
       "<Figure size 432x288 with 1 Axes>"
      ]
     },
     "metadata": {
      "needs_background": "light"
     },
     "output_type": "display_data"
    }
   ],
   "source": [
    "plt.imshow(image1.numpy().squeeze(), cmap='gray_r')\n",
    "\n",
    "image1.shape\n",
    "image1 = image1.numpy()\n",
    "\n",
    "image1 = image1.transpose(1, 2, 0)\n",
    "image1.shape\n",
    "\n",
    "img = image1.reshape(28, 28)"
   ]
  },
  {
   "cell_type": "code",
   "execution_count": 186,
   "id": "d2cc00fb",
   "metadata": {},
   "outputs": [
    {
     "name": "stdout",
     "output_type": "stream",
     "text": [
      "Dataset MNIST\n",
      "    Number of datapoints: 60000\n",
      "    Root location: D:\\Deep Learning\n",
      "    Split: Train\n",
      "    StandardTransform\n",
      "Transform: Compose(\n",
      "               ToTensor()\n",
      "               Normalize(mean=(0.5,), std=(0.5,))\n",
      "           )\n"
     ]
    }
   ],
   "source": [
    "print(mnist_train)"
   ]
  },
  {
   "cell_type": "markdown",
   "id": "b3cb60bf",
   "metadata": {},
   "source": [
    "Arranging shuffle with Data"
   ]
  },
  {
   "cell_type": "code",
   "execution_count": 187,
   "id": "a8abc2e9",
   "metadata": {},
   "outputs": [
    {
     "data": {
      "text/plain": [
       "{'train': <torch.utils.data.dataloader.DataLoader at 0x2199a7abb80>,\n",
       " 'test': <torch.utils.data.dataloader.DataLoader at 0x2199a776040>}"
      ]
     },
     "execution_count": 187,
     "metadata": {},
     "output_type": "execute_result"
    }
   ],
   "source": [
    "from torch.utils.data import DataLoader\n",
    "\n",
    "shuffled_data = {\n",
    "    'train' : torch.utils.data.DataLoader(mnist_train, \n",
    "                                          batch_size=100, \n",
    "                                          shuffle=True, \n",
    "                                          num_workers=1),\n",
    "    \n",
    "    'test'  : torch.utils.data.DataLoader(mnist_test, \n",
    "                                          batch_size=100, \n",
    "                                          shuffle=True, \n",
    "                                          num_workers=1),\n",
    "}\n",
    "shuffled_data"
   ]
  },
  {
   "cell_type": "code",
   "execution_count": 188,
   "id": "12d19e47",
   "metadata": {},
   "outputs": [
    {
     "data": {
      "text/plain": [
       "600"
      ]
     },
     "execution_count": 188,
     "metadata": {},
     "output_type": "execute_result"
    }
   ],
   "source": [
    "len(shuffled_data['train'])"
   ]
  },
  {
   "cell_type": "code",
   "execution_count": 189,
   "id": "4363d23d",
   "metadata": {},
   "outputs": [],
   "source": [
    "import torch.nn as nn\n",
    "class Convolution(nn.Module):\n",
    "    def __init__(self):\n",
    "        super(Convolution,self).__init__()\n",
    "        self.bn1=None\n",
    "        self.activation1=None\n",
    "        self.conv1=nn.Sequential(\n",
    "            nn.Conv2d(\n",
    "                in_channels=1,\n",
    "                out_channels=4,\n",
    "                kernel_size=5,\n",
    "                stride=1,\n",
    "                padding=2\n",
    "            ),\n",
    "            nn.ReLU(),\n",
    "            nn.MaxPool2d(kernel_size=2,stride=2),\n",
    "            )\n",
    "        self.conv2=nn.Sequential(\n",
    "            nn.Conv2d(4,4,5,1,2),\n",
    "            nn.ReLU(),\n",
    "            nn.MaxPool2d(2),\n",
    "        )\n",
    "        self.out1=nn.Linear(7*7*4,49)\n",
    "        self.out2=nn.Linear(49,10)\n",
    "    \n",
    "    def forward(self,x):\n",
    "       # x=torch.unsqueeze(x, 0)\n",
    "        x=self.conv1(x)\n",
    "        self.activation1=x\n",
    "        #print(x.shape)\n",
    "        x=self.conv2(x)\n",
    "        self.activation2=x\n",
    "        #3print(x.shape)\n",
    "        x=x.view(x.size(0),-1)\n",
    "        self.bn1=x\n",
    "        #print(x.shape)\n",
    "        output1=self.out1(x)\n",
    "        #print(output1.shape)\n",
    "        output2=self.out2(output1)\n",
    "        #print(output2.shape)\n",
    "        return output2,x\n",
    "\n",
    "    \n"
   ]
  },
  {
   "cell_type": "code",
   "execution_count": 190,
   "id": "9d340a87",
   "metadata": {},
   "outputs": [
    {
     "name": "stdout",
     "output_type": "stream",
     "text": [
      "Convolution(\n",
      "  (conv1): Sequential(\n",
      "    (0): Conv2d(1, 4, kernel_size=(5, 5), stride=(1, 1), padding=(2, 2))\n",
      "    (1): ReLU()\n",
      "    (2): MaxPool2d(kernel_size=2, stride=2, padding=0, dilation=1, ceil_mode=False)\n",
      "  )\n",
      "  (conv2): Sequential(\n",
      "    (0): Conv2d(4, 4, kernel_size=(5, 5), stride=(1, 1), padding=(2, 2))\n",
      "    (1): ReLU()\n",
      "    (2): MaxPool2d(kernel_size=2, stride=2, padding=0, dilation=1, ceil_mode=False)\n",
      "  )\n",
      "  (out1): Linear(in_features=196, out_features=49, bias=True)\n",
      "  (out2): Linear(in_features=49, out_features=10, bias=True)\n",
      ")\n"
     ]
    }
   ],
   "source": [
    "cnn=Convolution()\n",
    "print(cnn)"
   ]
  },
  {
   "cell_type": "code",
   "execution_count": null,
   "id": "215e6ed5",
   "metadata": {},
   "outputs": [],
   "source": []
  },
  {
   "cell_type": "code",
   "execution_count": 191,
   "id": "a9ad6d95",
   "metadata": {},
   "outputs": [
    {
     "data": {
      "text/plain": [
       "CrossEntropyLoss()"
      ]
     },
     "execution_count": 191,
     "metadata": {},
     "output_type": "execute_result"
    }
   ],
   "source": [
    "entropy_loss = nn.CrossEntropyLoss()   \n",
    "entropy_loss"
   ]
  },
  {
   "cell_type": "markdown",
   "id": "6ebca58e",
   "metadata": {},
   "source": [
    "RMS prop\n"
   ]
  },
  {
   "cell_type": "code",
   "execution_count": 192,
   "id": "1b15399c",
   "metadata": {},
   "outputs": [
    {
     "data": {
      "text/plain": [
       "RMSprop (\n",
       "Parameter Group 0\n",
       "    alpha: 0.9\n",
       "    centered: False\n",
       "    eps: 1e-08\n",
       "    lr: 0.001\n",
       "    momentum: 0\n",
       "    weight_decay: 0\n",
       ")"
      ]
     },
     "execution_count": 192,
     "metadata": {},
     "output_type": "execute_result"
    }
   ],
   "source": [
    "from torch import optim\n",
    "optimizer=optim.RMSprop(cnn.parameters(), lr=0.001, alpha=0.9)\n",
    "optimizer                       "
   ]
  },
  {
   "cell_type": "code",
   "execution_count": 193,
   "id": "2f113204",
   "metadata": {},
   "outputs": [],
   "source": [
    "def test():\n",
    "    cnn.eval()\n",
    "    with torch.no_grad():\n",
    "        correct=0\n",
    "        total=0\n",
    "        for images, labels in shuffled_data['test']:\n",
    "            output_test,last_layer=cnn(images)\n",
    "            pred_y=torch.max(output_test,1)[1].data.squeeze()\n",
    "            accuracy = (pred_y==labels).sum().item()/float(labels.size(0))\n",
    "            pass\n",
    "        pass\n",
    "    return accuracy\n",
    "    "
   ]
  },
  {
   "cell_type": "code",
   "execution_count": 194,
   "id": "7640ced5",
   "metadata": {},
   "outputs": [],
   "source": [
    "def Tsne():\n",
    "    bn1=cnn.bn1\n",
    "    bn=bn1.detach().numpy()\n",
    "    from sklearn.manifold import TSNE\n",
    "    model = TSNE(n_components=2, random_state=0)\n",
    "    X=model.fit_transform(bn)\n",
    "    plt.scatter(X[:,0], X[:,1])"
   ]
  },
  {
   "cell_type": "code",
   "execution_count": 195,
   "id": "74333f4a",
   "metadata": {},
   "outputs": [
    {
     "name": "stdout",
     "output_type": "stream",
     "text": [
      "Epoch [1/15], Step [100/600], Loss: 0.4406\n",
      "Epoch [1/15], Step [200/600], Loss: 0.2862\n",
      "Epoch [1/15], Step [300/600], Loss: 0.2469\n",
      "Epoch [1/15], Step [400/600], Loss: 0.1408\n",
      "Epoch [1/15], Step [500/600], Loss: 0.1086\n",
      "Epoch [1/15], Step [600/600], Loss: 0.1085\n",
      "Test accuracy after epoch is: 0.93\n",
      "Epoch [2/15], Step [100/600], Loss: 0.0525\n",
      "Epoch [2/15], Step [200/600], Loss: 0.1995\n",
      "Epoch [2/15], Step [300/600], Loss: 0.1488\n",
      "Epoch [2/15], Step [400/600], Loss: 0.1535\n",
      "Epoch [2/15], Step [500/600], Loss: 0.0865\n",
      "Epoch [2/15], Step [600/600], Loss: 0.1129\n",
      "Test accuracy after epoch is: 0.94\n",
      "Epoch [3/15], Step [100/600], Loss: 0.0839\n",
      "Epoch [3/15], Step [200/600], Loss: 0.0398\n",
      "Epoch [3/15], Step [300/600], Loss: 0.0159\n",
      "Epoch [3/15], Step [400/600], Loss: 0.0155\n",
      "Epoch [3/15], Step [500/600], Loss: 0.1110\n",
      "Epoch [3/15], Step [600/600], Loss: 0.1195\n",
      "Test accuracy after epoch is: 0.98\n",
      "Epoch [4/15], Step [100/600], Loss: 0.1573\n",
      "Epoch [4/15], Step [200/600], Loss: 0.1350\n",
      "Epoch [4/15], Step [300/600], Loss: 0.0359\n",
      "Epoch [4/15], Step [400/600], Loss: 0.1229\n",
      "Epoch [4/15], Step [500/600], Loss: 0.0926\n",
      "Epoch [4/15], Step [600/600], Loss: 0.1362\n",
      "Test accuracy after epoch is: 0.98\n",
      "Epoch [5/15], Step [100/600], Loss: 0.0564\n",
      "Epoch [5/15], Step [200/600], Loss: 0.0283\n",
      "Epoch [5/15], Step [300/600], Loss: 0.0578\n",
      "Epoch [5/15], Step [400/600], Loss: 0.1224\n",
      "Epoch [5/15], Step [500/600], Loss: 0.0536\n",
      "Epoch [5/15], Step [600/600], Loss: 0.0662\n",
      "Test accuracy after epoch is: 0.98\n",
      "Epoch [6/15], Step [100/600], Loss: 0.1285\n",
      "Epoch [6/15], Step [200/600], Loss: 0.0281\n",
      "Epoch [6/15], Step [300/600], Loss: 0.0721\n",
      "Epoch [6/15], Step [400/600], Loss: 0.0381\n",
      "Epoch [6/15], Step [500/600], Loss: 0.0748\n",
      "Epoch [6/15], Step [600/600], Loss: 0.1620\n",
      "Test accuracy after epoch is: 0.99\n",
      "Epoch [7/15], Step [100/600], Loss: 0.0114\n",
      "Epoch [7/15], Step [200/600], Loss: 0.0550\n",
      "Epoch [7/15], Step [300/600], Loss: 0.1293\n",
      "Epoch [7/15], Step [400/600], Loss: 0.0342\n",
      "Epoch [7/15], Step [500/600], Loss: 0.0278\n",
      "Epoch [7/15], Step [600/600], Loss: 0.0692\n",
      "Test accuracy after epoch is: 0.98\n",
      "Epoch [8/15], Step [100/600], Loss: 0.0468\n",
      "Epoch [8/15], Step [200/600], Loss: 0.0402\n",
      "Epoch [8/15], Step [300/600], Loss: 0.0445\n",
      "Epoch [8/15], Step [400/600], Loss: 0.0785\n",
      "Epoch [8/15], Step [500/600], Loss: 0.0872\n",
      "Epoch [8/15], Step [600/600], Loss: 0.2064\n",
      "Test accuracy after epoch is: 1.00\n",
      "Epoch [9/15], Step [100/600], Loss: 0.0347\n",
      "Epoch [9/15], Step [200/600], Loss: 0.0588\n",
      "Epoch [9/15], Step [300/600], Loss: 0.0290\n",
      "Epoch [9/15], Step [400/600], Loss: 0.0333\n",
      "Epoch [9/15], Step [500/600], Loss: 0.0596\n",
      "Epoch [9/15], Step [600/600], Loss: 0.0617\n",
      "Test accuracy after epoch is: 0.98\n",
      "Epoch [10/15], Step [100/600], Loss: 0.0275\n",
      "Epoch [10/15], Step [200/600], Loss: 0.1457\n",
      "Epoch [10/15], Step [300/600], Loss: 0.1314\n",
      "Epoch [10/15], Step [400/600], Loss: 0.0686\n",
      "Epoch [10/15], Step [500/600], Loss: 0.0507\n",
      "Epoch [10/15], Step [600/600], Loss: 0.0263\n",
      "Test accuracy after epoch is: 0.96\n",
      "Epoch [11/15], Step [100/600], Loss: 0.0189\n",
      "Epoch [11/15], Step [200/600], Loss: 0.0467\n",
      "Epoch [11/15], Step [300/600], Loss: 0.0461\n",
      "Epoch [11/15], Step [400/600], Loss: 0.0337\n",
      "Epoch [11/15], Step [500/600], Loss: 0.0348\n",
      "Epoch [11/15], Step [600/600], Loss: 0.0280\n",
      "Test accuracy after epoch is: 0.99\n",
      "Epoch [12/15], Step [100/600], Loss: 0.0441\n",
      "Epoch [12/15], Step [200/600], Loss: 0.0328\n",
      "Epoch [12/15], Step [300/600], Loss: 0.0308\n",
      "Epoch [12/15], Step [400/600], Loss: 0.0200\n",
      "Epoch [12/15], Step [500/600], Loss: 0.0117\n",
      "Epoch [12/15], Step [600/600], Loss: 0.0824\n",
      "Test accuracy after epoch is: 0.98\n",
      "Epoch [13/15], Step [100/600], Loss: 0.0255\n",
      "Epoch [13/15], Step [200/600], Loss: 0.0219\n",
      "Epoch [13/15], Step [300/600], Loss: 0.0241\n",
      "Epoch [13/15], Step [400/600], Loss: 0.0131\n",
      "Epoch [13/15], Step [500/600], Loss: 0.0117\n",
      "Epoch [13/15], Step [600/600], Loss: 0.0223\n",
      "Test accuracy after epoch is: 0.96\n",
      "Epoch [14/15], Step [100/600], Loss: 0.1513\n",
      "Epoch [14/15], Step [200/600], Loss: 0.0048\n",
      "Epoch [14/15], Step [300/600], Loss: 0.0125\n",
      "Epoch [14/15], Step [400/600], Loss: 0.0148\n",
      "Epoch [14/15], Step [500/600], Loss: 0.0309\n",
      "Epoch [14/15], Step [600/600], Loss: 0.0716\n",
      "Test accuracy after epoch is: 0.99\n",
      "Epoch [15/15], Step [100/600], Loss: 0.0380\n",
      "Epoch [15/15], Step [200/600], Loss: 0.0108\n",
      "Epoch [15/15], Step [300/600], Loss: 0.0065\n",
      "Epoch [15/15], Step [400/600], Loss: 0.0608\n",
      "Epoch [15/15], Step [500/600], Loss: 0.0291\n",
      "Epoch [15/15], Step [600/600], Loss: 0.0552\n",
      "Test accuracy after epoch is: 0.98\n",
      "Model accuracy is: 0.9826666666666668\n"
     ]
    },
    {
     "data": {
      "image/png": "[encoded data removed]",
      "text/plain": [
       "<Figure size 432x288 with 1 Axes>"
      ]
     },
     "metadata": {
      "needs_background": "light"
     },
     "output_type": "display_data"
    }
   ],
   "source": [
    "from torch.autograd import Variable\n",
    "\n",
    "num_epochs=15\n",
    "acclist=[]\n",
    "def train(num_epochs,cnn,shuffled_data):\n",
    "    cnn.train()\n",
    "    \n",
    "    step_size=len(shuffled_data['train'])\n",
    "    \n",
    "    for epoch in range(num_epochs):\n",
    "        for i, (images,labels) in enumerate(shuffled_data['train']):\n",
    "            batch_x=Variable(images)\n",
    "            batch_y=Variable(labels)\n",
    "           # print(batch_x[0].shape\n",
    "            output=cnn(batch_x)[0]\n",
    "            \n",
    "       # print(output)\n",
    "        #print(output.dtype)\n",
    "      #  output  = torch.stack(list(output), dim=0)\n",
    "            loss=entropy_loss(output,batch_y)\n",
    "            optimizer.zero_grad()\n",
    "    \n",
    "            loss.backward()\n",
    "            optimizer.step()\n",
    "            \n",
    "            #print(i)\n",
    "            if (i+1) %100 ==0:\n",
    "                print ('Epoch [{}/{}], Step [{}/{}], Loss: {:.4f}' \n",
    "                        .format(epoch + 1, num_epochs, i + 1, step_size, loss.item()))\n",
    "    \n",
    "                pass\n",
    "                if(epoch==0):\n",
    "                    Tsne()\n",
    "                if(epoch==14):\n",
    "                    Tsne()\n",
    "            pass\n",
    "        print(\"Test accuracy after epoch is: %.2f\"%test())\n",
    "        acclist.append(test())\n",
    "        pass\n",
    "    \n",
    "    \n",
    "train(num_epochs,cnn,shuffled_data)\n",
    "final_accuracy=sum(acclist)/len(acclist)\n",
    "print(\"Model accuracy is:\" ,final_accuracy)\n",
    "\n",
    "\n"
   ]
  },
  {
   "cell_type": "code",
   "execution_count": 196,
   "id": "67d7f362",
   "metadata": {},
   "outputs": [
    {
     "name": "stdout",
     "output_type": "stream",
     "text": [
      "Epoch [1/15], Step [100/600], Loss: 0.0850\n",
      "Epoch [1/15], Step [200/600], Loss: 0.0974\n",
      "Epoch [1/15], Step [300/600], Loss: 0.0318\n",
      "Epoch [1/15], Step [400/600], Loss: 0.0180\n",
      "Epoch [1/15], Step [500/600], Loss: 0.0063\n",
      "Epoch [1/15], Step [600/600], Loss: 0.1787\n",
      "Test accuracy after epoch is: 1.00\n",
      "Epoch [2/15], Step [100/600], Loss: 0.0165\n",
      "Epoch [2/15], Step [200/600], Loss: 0.0396\n",
      "Epoch [2/15], Step [300/600], Loss: 0.1104\n",
      "Epoch [2/15], Step [400/600], Loss: 0.0289\n",
      "Epoch [2/15], Step [500/600], Loss: 0.0575\n",
      "Epoch [2/15], Step [600/600], Loss: 0.0182\n",
      "Test accuracy after epoch is: 0.99\n",
      "Epoch [3/15], Step [100/600], Loss: 0.0520\n",
      "Epoch [3/15], Step [200/600], Loss: 0.1398\n",
      "Epoch [3/15], Step [300/600], Loss: 0.0138\n",
      "Epoch [3/15], Step [400/600], Loss: 0.1057\n",
      "Epoch [3/15], Step [500/600], Loss: 0.0379\n",
      "Epoch [3/15], Step [600/600], Loss: 0.1176\n",
      "Test accuracy after epoch is: 0.97\n",
      "Epoch [4/15], Step [100/600], Loss: 0.0878\n",
      "Epoch [4/15], Step [200/600], Loss: 0.0114\n",
      "Epoch [4/15], Step [300/600], Loss: 0.0232\n",
      "Epoch [4/15], Step [400/600], Loss: 0.0541\n",
      "Epoch [4/15], Step [500/600], Loss: 0.0379\n",
      "Epoch [4/15], Step [600/600], Loss: 0.0256\n",
      "Test accuracy after epoch is: 0.98\n",
      "Epoch [5/15], Step [100/600], Loss: 0.0071\n",
      "Epoch [5/15], Step [200/600], Loss: 0.0034\n",
      "Epoch [5/15], Step [300/600], Loss: 0.0685\n",
      "Epoch [5/15], Step [400/600], Loss: 0.0662\n",
      "Epoch [5/15], Step [500/600], Loss: 0.0287\n",
      "Epoch [5/15], Step [600/600], Loss: 0.0131\n",
      "Test accuracy after epoch is: 0.95\n",
      "Epoch [6/15], Step [100/600], Loss: 0.0249\n",
      "Epoch [6/15], Step [200/600], Loss: 0.0609\n",
      "Epoch [6/15], Step [300/600], Loss: 0.0079\n",
      "Epoch [6/15], Step [400/600], Loss: 0.0532\n",
      "Epoch [6/15], Step [500/600], Loss: 0.1414\n",
      "Epoch [6/15], Step [600/600], Loss: 0.0702\n",
      "Test accuracy after epoch is: 0.99\n",
      "Epoch [7/15], Step [100/600], Loss: 0.0161\n",
      "Epoch [7/15], Step [200/600], Loss: 0.0089\n",
      "Epoch [7/15], Step [300/600], Loss: 0.0462\n",
      "Epoch [7/15], Step [400/600], Loss: 0.0518\n",
      "Epoch [7/15], Step [500/600], Loss: 0.0325\n",
      "Epoch [7/15], Step [600/600], Loss: 0.0403\n",
      "Test accuracy after epoch is: 1.00\n",
      "Epoch [8/15], Step [100/600], Loss: 0.0072\n",
      "Epoch [8/15], Step [200/600], Loss: 0.0562\n",
      "Epoch [8/15], Step [300/600], Loss: 0.0033\n",
      "Epoch [8/15], Step [400/600], Loss: 0.0495\n",
      "Epoch [8/15], Step [500/600], Loss: 0.0945\n",
      "Epoch [8/15], Step [600/600], Loss: 0.1406\n",
      "Test accuracy after epoch is: 0.98\n",
      "Epoch [9/15], Step [100/600], Loss: 0.0839\n",
      "Epoch [9/15], Step [200/600], Loss: 0.1625\n",
      "Epoch [9/15], Step [300/600], Loss: 0.0021\n",
      "Epoch [9/15], Step [400/600], Loss: 0.0155\n",
      "Epoch [9/15], Step [500/600], Loss: 0.0349\n",
      "Epoch [9/15], Step [600/600], Loss: 0.0524\n",
      "Test accuracy after epoch is: 0.98\n",
      "Epoch [10/15], Step [100/600], Loss: 0.0024\n",
      "Epoch [10/15], Step [200/600], Loss: 0.0144\n",
      "Epoch [10/15], Step [300/600], Loss: 0.0058\n",
      "Epoch [10/15], Step [400/600], Loss: 0.0099\n",
      "Epoch [10/15], Step [500/600], Loss: 0.0056\n",
      "Epoch [10/15], Step [600/600], Loss: 0.0155\n",
      "Test accuracy after epoch is: 0.99\n",
      "Epoch [11/15], Step [100/600], Loss: 0.0921\n",
      "Epoch [11/15], Step [200/600], Loss: 0.0044\n",
      "Epoch [11/15], Step [300/600], Loss: 0.0601\n",
      "Epoch [11/15], Step [400/600], Loss: 0.0421\n",
      "Epoch [11/15], Step [500/600], Loss: 0.0607\n",
      "Epoch [11/15], Step [600/600], Loss: 0.0007\n",
      "Test accuracy after epoch is: 1.00\n",
      "Epoch [12/15], Step [100/600], Loss: 0.0075\n",
      "Epoch [12/15], Step [200/600], Loss: 0.0211\n",
      "Epoch [12/15], Step [300/600], Loss: 0.0919\n",
      "Epoch [12/15], Step [400/600], Loss: 0.0036\n",
      "Epoch [12/15], Step [500/600], Loss: 0.0328\n",
      "Epoch [12/15], Step [600/600], Loss: 0.0044\n",
      "Test accuracy after epoch is: 0.97\n",
      "Epoch [13/15], Step [100/600], Loss: 0.0418\n",
      "Epoch [13/15], Step [200/600], Loss: 0.0088\n",
      "Epoch [13/15], Step [300/600], Loss: 0.0556\n",
      "Epoch [13/15], Step [400/600], Loss: 0.0217\n",
      "Epoch [13/15], Step [500/600], Loss: 0.0064\n",
      "Epoch [13/15], Step [600/600], Loss: 0.0363\n",
      "Test accuracy after epoch is: 1.00\n",
      "Epoch [14/15], Step [100/600], Loss: 0.0063\n",
      "Epoch [14/15], Step [200/600], Loss: 0.0575\n",
      "Epoch [14/15], Step [300/600], Loss: 0.0229\n",
      "Epoch [14/15], Step [400/600], Loss: 0.0510\n",
      "Epoch [14/15], Step [500/600], Loss: 0.0579\n",
      "Epoch [14/15], Step [600/600], Loss: 0.0073\n",
      "Test accuracy after epoch is: 0.98\n",
      "Epoch [15/15], Step [100/600], Loss: 0.0180\n",
      "Epoch [15/15], Step [200/600], Loss: 0.0037\n",
      "Epoch [15/15], Step [300/600], Loss: 0.0458\n",
      "Epoch [15/15], Step [400/600], Loss: 0.0483\n",
      "Epoch [15/15], Step [500/600], Loss: 0.0516\n",
      "Epoch [15/15], Step [600/600], Loss: 0.0082\n",
      "Test accuracy after epoch is: 0.99\n",
      "Model accuracy is: 0.988\n"
     ]
    },
    {
     "data": {
      "image/png": "[encoded data removed]",
      "text/plain": [
       "<Figure size 432x288 with 1 Axes>"
      ]
     },
     "metadata": {
      "needs_background": "light"
     },
     "output_type": "display_data"
    }
   ],
   "source": [
    "from torch.autograd import Variable\n",
    "\n",
    "num_epochs=15\n",
    "acclist=[]\n",
    "def train(num_epochs,cnn,shuffled_data):\n",
    "    cnn.train()\n",
    "    \n",
    "    step_size=len(shuffled_data['train'])\n",
    "    \n",
    "    for epoch in range(num_epochs):\n",
    "        for i, (images,labels) in enumerate(shuffled_data['train']):\n",
    "            batch_x=Variable(images)\n",
    "            batch_y=Variable(labels)\n",
    "           # print(batch_x[0].shape\n",
    "            output=cnn(batch_x)[0]\n",
    "            \n",
    "       # print(output)\n",
    "        #print(output.dtype)\n",
    "      #  output  = torch.stack(list(output), dim=0)\n",
    "            loss=entropy_loss(output,batch_y)\n",
    "            optimizer.zero_grad()\n",
    "    \n",
    "            loss.backward()\n",
    "            optimizer.step()\n",
    "            \n",
    "            #print(i)\n",
    "            if (i+1) %100 ==0:\n",
    "                print ('Epoch [{}/{}], Step [{}/{}], Loss: {:.4f}' \n",
    "                        .format(epoch + 1, num_epochs, i + 1, step_size, loss.item()))\n",
    "    \n",
    "                pass\n",
    "                if(epoch==14):\n",
    "                    Tsne()\n",
    "            pass\n",
    "        print(\"Test accuracy after epoch is: %.2f\"%test())\n",
    "        acclist.append(test())\n",
    "        pass\n",
    "    \n",
    "    \n",
    "train(num_epochs,cnn,shuffled_data)\n",
    "final_accuracy=sum(acclist)/len(acclist)\n",
    "print(\"Model accuracy is:\" ,final_accuracy)\n",
    "\n",
    "\n"
   ]
  },
  {
   "cell_type": "code",
   "execution_count": 197,
   "id": "b334c246",
   "metadata": {},
   "outputs": [
    {
     "name": "stdout",
     "output_type": "stream",
     "text": [
      "Epoch [1/15], Step [100/600], Loss: 0.0198\n",
      "Epoch [1/15], Step [200/600], Loss: 0.0710\n",
      "Epoch [1/15], Step [300/600], Loss: 0.0063\n",
      "Epoch [1/15], Step [400/600], Loss: 0.0072\n",
      "Epoch [1/15], Step [500/600], Loss: 0.0581\n",
      "Epoch [1/15], Step [600/600], Loss: 0.0036\n",
      "Test accuracy after epoch is: 1.00\n",
      "Epoch [2/15], Step [100/600], Loss: 0.0012\n",
      "Epoch [2/15], Step [200/600], Loss: 0.0324\n",
      "Epoch [2/15], Step [300/600], Loss: 0.0162\n",
      "Epoch [2/15], Step [400/600], Loss: 0.0233\n",
      "Epoch [2/15], Step [500/600], Loss: 0.0377\n",
      "Epoch [2/15], Step [600/600], Loss: 0.0052\n",
      "Test accuracy after epoch is: 1.00\n",
      "Epoch [3/15], Step [100/600], Loss: 0.0467\n",
      "Epoch [3/15], Step [200/600], Loss: 0.0330\n",
      "Epoch [3/15], Step [300/600], Loss: 0.0231\n",
      "Epoch [3/15], Step [400/600], Loss: 0.0374\n",
      "Epoch [3/15], Step [500/600], Loss: 0.0365\n",
      "Epoch [3/15], Step [600/600], Loss: 0.0200\n",
      "Test accuracy after epoch is: 1.00\n",
      "Epoch [4/15], Step [100/600], Loss: 0.0022\n",
      "Epoch [4/15], Step [200/600], Loss: 0.0040\n",
      "Epoch [4/15], Step [300/600], Loss: 0.0353\n",
      "Epoch [4/15], Step [400/600], Loss: 0.0470\n",
      "Epoch [4/15], Step [500/600], Loss: 0.0254\n",
      "Epoch [4/15], Step [600/600], Loss: 0.0140\n",
      "Test accuracy after epoch is: 0.96\n",
      "Epoch [5/15], Step [100/600], Loss: 0.0922\n",
      "Epoch [5/15], Step [200/600], Loss: 0.0766\n",
      "Epoch [5/15], Step [300/600], Loss: 0.0215\n",
      "Epoch [5/15], Step [400/600], Loss: 0.0156\n",
      "Epoch [5/15], Step [500/600], Loss: 0.0741\n",
      "Epoch [5/15], Step [600/600], Loss: 0.0579\n",
      "Test accuracy after epoch is: 1.00\n",
      "Epoch [6/15], Step [100/600], Loss: 0.0353\n",
      "Epoch [6/15], Step [200/600], Loss: 0.0080\n",
      "Epoch [6/15], Step [300/600], Loss: 0.0130\n",
      "Epoch [6/15], Step [400/600], Loss: 0.0152\n",
      "Epoch [6/15], Step [500/600], Loss: 0.0120\n",
      "Epoch [6/15], Step [600/600], Loss: 0.0086\n",
      "Test accuracy after epoch is: 0.99\n",
      "Epoch [7/15], Step [100/600], Loss: 0.0093\n",
      "Epoch [7/15], Step [200/600], Loss: 0.0150\n",
      "Epoch [7/15], Step [300/600], Loss: 0.0103\n",
      "Epoch [7/15], Step [400/600], Loss: 0.0259\n",
      "Epoch [7/15], Step [500/600], Loss: 0.0338\n",
      "Epoch [7/15], Step [600/600], Loss: 0.0108\n",
      "Test accuracy after epoch is: 0.96\n",
      "Epoch [8/15], Step [100/600], Loss: 0.0044\n",
      "Epoch [8/15], Step [200/600], Loss: 0.0189\n",
      "Epoch [8/15], Step [300/600], Loss: 0.1461\n",
      "Epoch [8/15], Step [400/600], Loss: 0.0641\n",
      "Epoch [8/15], Step [500/600], Loss: 0.0134\n",
      "Epoch [8/15], Step [600/600], Loss: 0.0007\n",
      "Test accuracy after epoch is: 0.97\n",
      "Epoch [9/15], Step [100/600], Loss: 0.0057\n",
      "Epoch [9/15], Step [200/600], Loss: 0.0065\n",
      "Epoch [9/15], Step [300/600], Loss: 0.0208\n",
      "Epoch [9/15], Step [400/600], Loss: 0.1046\n",
      "Epoch [9/15], Step [500/600], Loss: 0.0009\n",
      "Epoch [9/15], Step [600/600], Loss: 0.0094\n",
      "Test accuracy after epoch is: 0.98\n",
      "Epoch [10/15], Step [100/600], Loss: 0.0006\n",
      "Epoch [10/15], Step [200/600], Loss: 0.0750\n",
      "Epoch [10/15], Step [300/600], Loss: 0.0395\n",
      "Epoch [10/15], Step [400/600], Loss: 0.1028\n",
      "Epoch [10/15], Step [500/600], Loss: 0.0073\n",
      "Epoch [10/15], Step [600/600], Loss: 0.0113\n",
      "Test accuracy after epoch is: 1.00\n",
      "Epoch [11/15], Step [100/600], Loss: 0.0567\n",
      "Epoch [11/15], Step [200/600], Loss: 0.0109\n",
      "Epoch [11/15], Step [300/600], Loss: 0.0300\n",
      "Epoch [11/15], Step [400/600], Loss: 0.0011\n",
      "Epoch [11/15], Step [500/600], Loss: 0.0296\n",
      "Epoch [11/15], Step [600/600], Loss: 0.0465\n",
      "Test accuracy after epoch is: 1.00\n",
      "Epoch [12/15], Step [100/600], Loss: 0.1082\n",
      "Epoch [12/15], Step [200/600], Loss: 0.0753\n",
      "Epoch [12/15], Step [300/600], Loss: 0.0304\n",
      "Epoch [12/15], Step [400/600], Loss: 0.0049\n",
      "Epoch [12/15], Step [500/600], Loss: 0.0111\n",
      "Epoch [12/15], Step [600/600], Loss: 0.0206\n",
      "Test accuracy after epoch is: 1.00\n",
      "Epoch [13/15], Step [100/600], Loss: 0.0133\n",
      "Epoch [13/15], Step [200/600], Loss: 0.0395\n",
      "Epoch [13/15], Step [300/600], Loss: 0.0124\n",
      "Epoch [13/15], Step [400/600], Loss: 0.0029\n",
      "Epoch [13/15], Step [500/600], Loss: 0.0447\n",
      "Epoch [13/15], Step [600/600], Loss: 0.0228\n",
      "Test accuracy after epoch is: 0.99\n",
      "Epoch [14/15], Step [100/600], Loss: 0.0017\n",
      "Epoch [14/15], Step [200/600], Loss: 0.0068\n",
      "Epoch [14/15], Step [300/600], Loss: 0.0026\n",
      "Epoch [14/15], Step [400/600], Loss: 0.0075\n",
      "Epoch [14/15], Step [500/600], Loss: 0.0105\n",
      "Epoch [14/15], Step [600/600], Loss: 0.0054\n",
      "Test accuracy after epoch is: 0.99\n",
      "Epoch [15/15], Step [100/600], Loss: 0.0064\n",
      "Epoch [15/15], Step [200/600], Loss: 0.0245\n",
      "Epoch [15/15], Step [300/600], Loss: 0.0154\n",
      "Epoch [15/15], Step [400/600], Loss: 0.0158\n",
      "Epoch [15/15], Step [500/600], Loss: 0.0077\n",
      "Epoch [15/15], Step [600/600], Loss: 0.0025\n",
      "Test accuracy after epoch is: 0.99\n",
      "Model accuracy is: 0.9846666666666669\n"
     ]
    }
   ],
   "source": [
    "from torch.autograd import Variable\n",
    "\n",
    "num_epochs=15\n",
    "acclist=[]\n",
    "def train(num_epochs,cnn,shuffled_data):\n",
    "    cnn.train()\n",
    "    \n",
    "    step_size=len(shuffled_data['train'])\n",
    "    \n",
    "    for epoch in range(num_epochs):\n",
    "        for i, (images,labels) in enumerate(shuffled_data['train']):\n",
    "            batch_x=Variable(images)\n",
    "            batch_y=Variable(labels)\n",
    "           # print(batch_x[0].shape\n",
    "            output=cnn(batch_x)[0]\n",
    "            \n",
    "       # print(output)\n",
    "        #print(output.dtype)\n",
    "      #  output  = torch.stack(list(output), dim=0)\n",
    "            loss=entropy_loss(output,batch_y)\n",
    "            optimizer.zero_grad()\n",
    "    \n",
    "            loss.backward()\n",
    "            optimizer.step()\n",
    "            \n",
    "            #print(i)\n",
    "            if (i+1) %100 ==0:\n",
    "                print ('Epoch [{}/{}], Step [{}/{}], Loss: {:.4f}' \n",
    "                        .format(epoch + 1, num_epochs, i + 1, step_size, loss.item()))\n",
    "    \n",
    "                pass\n",
    "                if(epoch==15):\n",
    "                    Tsne\n",
    "            pass\n",
    "        print(\"Test accuracy after epoch is: %.2f\"%test())\n",
    "        acclist.append(test())\n",
    "        pass\n",
    "    \n",
    "    \n",
    "train(num_epochs,cnn,shuffled_data)\n",
    "final_accuracy=sum(acclist)/len(acclist)\n",
    "print(\"Model accuracy is:\" ,final_accuracy)\n",
    "\n",
    "\n"
   ]
  },
  {
   "cell_type": "code",
   "execution_count": 198,
   "id": "76e40015",
   "metadata": {},
   "outputs": [],
   "source": [
    "import matplotlib.pyplot as plt\n",
    "activation=cnn.activation1\n",
    "activation=activation.detach().numpy()\n",
    "\n"
   ]
  },
  {
   "cell_type": "code",
   "execution_count": 199,
   "id": "24c44a84",
   "metadata": {},
   "outputs": [
    {
     "data": {
      "image/png": "[encoded data removed]",
      "text/plain": [
       "<Figure size 432x288 with 1 Axes>"
      ]
     },
     "metadata": {
      "needs_background": "light"
     },
     "output_type": "display_data"
    },
    {
     "data": {
      "image/png": "[encoded data removed]",
      "text/plain": [
       "<Figure size 432x288 with 1 Axes>"
      ]
     },
     "metadata": {
      "needs_background": "light"
     },
     "output_type": "display_data"
    },
    {
     "data": {
      "image/png": "[encoded data removed]",
      "text/plain": [
       "<Figure size 432x288 with 1 Axes>"
      ]
     },
     "metadata": {
      "needs_background": "light"
     },
     "output_type": "display_data"
    },
    {
     "data": {
      "image/png": "[encoded data removed]",
      "text/plain": [
       "<Figure size 432x288 with 1 Axes>"
      ]
     },
     "metadata": {
      "needs_background": "light"
     },
     "output_type": "display_data"
    }
   ],
   "source": [
    "for i in range(4):\n",
    "    plt.imshow(activation[0][i])\n",
    "    plt.show()"
   ]
  },
  {
   "cell_type": "code",
   "execution_count": 200,
   "id": "a8dfcf0f",
   "metadata": {},
   "outputs": [
    {
     "data": {
      "image/png": "[encoded data removed]",
      "text/plain": [
       "<Figure size 432x288 with 1 Axes>"
      ]
     },
     "metadata": {
      "needs_background": "light"
     },
     "output_type": "display_data"
    },
    {
     "data": {
      "image/png": "[encoded data removed]",
      "text/plain": [
       "<Figure size 432x288 with 1 Axes>"
      ]
     },
     "metadata": {
      "needs_background": "light"
     },
     "output_type": "display_data"
    },
    {
     "data": {
      "image/png": "[encoded data removed]",
      "text/plain": [
       "<Figure size 432x288 with 1 Axes>"
      ]
     },
     "metadata": {
      "needs_background": "light"
     },
     "output_type": "display_data"
    },
    {
     "data": {
      "image/png": "[encoded data removed]",
      "text/plain": [
       "<Figure size 432x288 with 1 Axes>"
      ]
     },
     "metadata": {
      "needs_background": "light"
     },
     "output_type": "display_data"
    }
   ],
   "source": [
    "activation=cnn.activation2\n",
    "activation=activation.detach().numpy()\n",
    "for i in range(4):\n",
    "    plt.imshow(activation[0][i])\n",
    "    plt.show()"
   ]
  },
  {
   "cell_type": "markdown",
   "id": "a662ff6c",
   "metadata": {},
   "source": [
    "With dropout"
   ]
  },
  {
   "cell_type": "code",
   "execution_count": 201,
   "id": "d8f83a75",
   "metadata": {},
   "outputs": [],
   "source": [
    "import torch.nn as nn\n",
    "class Convolutiond(nn.Module):\n",
    "    def __init__(self):\n",
    "        super(Convolutiond,self).__init__()\n",
    "        self.bn1=None\n",
    "        self.conv1=nn.Sequential(\n",
    "            nn.Conv2d(\n",
    "                in_channels=1,\n",
    "                out_channels=4,\n",
    "                kernel_size=5,\n",
    "                stride=1,\n",
    "                padding=2\n",
    "            ),\n",
    "            nn.ReLU(),\n",
    "            nn.MaxPool2d(kernel_size=2,stride=2),\n",
    "            )\n",
    "        self.conv2=nn.Sequential(\n",
    "            nn.Conv2d(4,4,5,1,2),\n",
    "            nn.ReLU(),\n",
    "            nn.MaxPool2d(2),\n",
    "        )\n",
    "        self.out1=nn.Linear(7*7*4,49)\n",
    "        self.out2=nn.Linear(49,10)\n",
    "    \n",
    "    def forward(self,x):\n",
    "       # x=torch.unsqueeze(x, 0)\n",
    "        x=self.conv1(x)\n",
    "        #print(x.shape)\n",
    "        x=self.conv2(x)\n",
    "        #3print(x.shape)\n",
    "        x=x.view(x.size(0),-1)\n",
    "        self.bn1=x\n",
    "        #print(x.shape)\n",
    "        output1=self.out1(x)\n",
    "        m = nn.Dropout(p=0.2)\n",
    "        input = torch.randn(20, 16)\n",
    "        output1 = m(output1)\n",
    "        #print(output1.shape)\n",
    "        output2=self.out2(output1)\n",
    "        #print(output2.shape)\n",
    "        return output2,x\n",
    "\n",
    "    \n"
   ]
  },
  {
   "cell_type": "code",
   "execution_count": null,
   "id": "2ee73362",
   "metadata": {},
   "outputs": [],
   "source": []
  },
  {
   "cell_type": "code",
   "execution_count": 202,
   "id": "e1a99cc5",
   "metadata": {},
   "outputs": [
    {
     "name": "stdout",
     "output_type": "stream",
     "text": [
      "Convolutiond(\n",
      "  (conv1): Sequential(\n",
      "    (0): Conv2d(1, 4, kernel_size=(5, 5), stride=(1, 1), padding=(2, 2))\n",
      "    (1): ReLU()\n",
      "    (2): MaxPool2d(kernel_size=2, stride=2, padding=0, dilation=1, ceil_mode=False)\n",
      "  )\n",
      "  (conv2): Sequential(\n",
      "    (0): Conv2d(4, 4, kernel_size=(5, 5), stride=(1, 1), padding=(2, 2))\n",
      "    (1): ReLU()\n",
      "    (2): MaxPool2d(kernel_size=2, stride=2, padding=0, dilation=1, ceil_mode=False)\n",
      "  )\n",
      "  (out1): Linear(in_features=196, out_features=49, bias=True)\n",
      "  (out2): Linear(in_features=49, out_features=10, bias=True)\n",
      ")\n"
     ]
    }
   ],
   "source": [
    "cnn1=Convolutiond()\n",
    "print(cnn1)"
   ]
  },
  {
   "cell_type": "code",
   "execution_count": 203,
   "id": "b9abaac2",
   "metadata": {},
   "outputs": [],
   "source": [
    "def test():\n",
    "    cnn1.eval()\n",
    "    with torch.no_grad():\n",
    "        correct=0\n",
    "        total=0\n",
    "        for images, labels in shuffled_data['test']:\n",
    "            output_test,last_layer=cnn1(images)\n",
    "            pred_y=torch.max(output_test,1)[1].data.squeeze()\n",
    "            accuracy = (pred_y==labels).sum().item()/float(labels.size(0))\n",
    "            pass\n",
    "        pass\n",
    "    return accuracy"
   ]
  },
  {
   "cell_type": "code",
   "execution_count": 204,
   "id": "771925a4",
   "metadata": {},
   "outputs": [],
   "source": [
    "#def Tsne()\n",
    " #   bn1=cnn1.bn1\n",
    "  #  bn=bn1.detach().numpy()\n",
    "   # from sklearn.manifold import TSNE\n",
    "  #  model = TSNE(n_components=2, random_state=0)\n",
    "#    X=model.fit_transform(bn)\n",
    " #   plt.scatter(X[:,0], X[:,1])"
   ]
  },
  {
   "cell_type": "code",
   "execution_count": null,
   "id": "107a570c",
   "metadata": {},
   "outputs": [
    {
     "name": "stdout",
     "output_type": "stream",
     "text": [
      "Epoch [1/15], Step [100/600], Loss: 2.3275\n",
      "Epoch [1/15], Step [200/600], Loss: 2.3359\n",
      "Epoch [1/15], Step [300/600], Loss: 2.3309\n",
      "Epoch [1/15], Step [400/600], Loss: 2.3427\n",
      "Epoch [1/15], Step [500/600], Loss: 2.3334\n",
      "Epoch [1/15], Step [600/600], Loss: 2.3271\n",
      "Test accuracy after epoch is: 0.07\n",
      "Epoch [2/15], Step [100/600], Loss: 2.3092\n",
      "Epoch [2/15], Step [200/600], Loss: 2.3203\n",
      "Epoch [2/15], Step [300/600], Loss: 2.3232\n",
      "Epoch [2/15], Step [400/600], Loss: 2.3294\n",
      "Epoch [2/15], Step [500/600], Loss: 2.3127\n",
      "Epoch [2/15], Step [600/600], Loss: 2.3240\n",
      "Test accuracy after epoch is: 0.11\n",
      "Epoch [3/15], Step [100/600], Loss: 2.3110\n",
      "Epoch [3/15], Step [200/600], Loss: 2.3015\n",
      "Epoch [3/15], Step [300/600], Loss: 2.3223\n",
      "Epoch [3/15], Step [400/600], Loss: 2.3278\n",
      "Epoch [3/15], Step [500/600], Loss: 2.3206\n",
      "Epoch [3/15], Step [600/600], Loss: 2.3055\n",
      "Test accuracy after epoch is: 0.14\n"
     ]
    }
   ],
   "source": [
    "from torch.autograd import Variable\n",
    "\n",
    "num_epochs=15\n",
    "acclist=[]\n",
    "def train(num_epochs,cnn,shuffled_data):\n",
    "    cnn1.train()\n",
    "    \n",
    "    step_size=len(shuffled_data['train'])\n",
    "    \n",
    "    for epoch in range(num_epochs):\n",
    "        for i, (images,labels) in enumerate(shuffled_data['train']):\n",
    "            batch_x=Variable(images)\n",
    "            batch_y=Variable(labels)\n",
    "           # print(batch_x[0].shape\n",
    "            output=cnn1(batch_x)[0]\n",
    "            if(epoch==1 or 15):\n",
    "                Tsne()\n",
    "       # print(output)\n",
    "        #print(output.dtype)\n",
    "      #  output  = torch.stack(list(output), dim=0)\n",
    "            loss=entropy_loss(output,batch_y)\n",
    "            optimizer.zero_grad()\n",
    "    \n",
    "            loss.backward()\n",
    "            optimizer.step()\n",
    "            \n",
    "            #print(i)\n",
    "            if (i+1) %100 ==0:\n",
    "                print ('Epoch [{}/{}], Step [{}/{}], Loss: {:.4f}' \n",
    "                        .format(epoch + 1, num_epochs, i + 1, step_size, loss.item()))\n",
    "                pass\n",
    "                if(epoch==0 or 15):\n",
    "                    Tsne()\n",
    "            pass\n",
    "        print(\"Test accuracy after epoch is: %.2f\"%test())\n",
    "        acclist.append(test())\n",
    "        pass\n",
    "    \n",
    "    \n",
    "train(num_epochs,cnn1,shuffled_data)\n",
    "final_accuracy=sum(acclist)/len(acclist)\n",
    "print(\"Model accuracy is:\" ,final_accuracy)\n",
    "\n",
    "\n"
   ]
  },
  {
   "cell_type": "code",
   "execution_count": null,
   "id": "18c1ee1c",
   "metadata": {},
   "outputs": [],
   "source": []
  },
  {
   "cell_type": "code",
   "execution_count": null,
   "id": "dc9c4c0a",
   "metadata": {},
   "outputs": [],
   "source": [
    "import torch.nn as nn\n",
    "class Convolutiond(nn.Module):\n",
    "    def __init__(self):\n",
    "        super(Convolutiond,self).__init__()\n",
    "        self.bn1=None\n",
    "        self.conv1=nn.Sequential(\n",
    "            nn.Conv2d(\n",
    "                in_channels=1,\n",
    "                out_channels=4,\n",
    "                kernel_size=5,\n",
    "                stride=1,\n",
    "                padding=2\n",
    "            ),\n",
    "            nn.ReLU(),\n",
    "            nn.MaxPool2d(kernel_size=2,stride=2),\n",
    "            )\n",
    "        self.conv2=nn.Sequential(\n",
    "            nn.Conv2d(4,4,5,1,2),\n",
    "            nn.ReLU(),\n",
    "            nn.MaxPool2d(2),\n",
    "        )\n",
    "        self.out1=nn.Linear(7*7*4,49)\n",
    "        self.out2=nn.Linear(49,10)\n",
    "    \n",
    "    def forward(self,x):\n",
    "       # x=torch.unsqueeze(x, 0)\n",
    "        x=self.conv1(x)\n",
    "        #print(x.shape)\n",
    "        x=self.conv2(x)\n",
    "        #3print(x.shape)\n",
    "        x=x.view(x.size(0),-1)\n",
    "        self.bn1=x\n",
    "        #print(x.shape)\n",
    "        output1=self.out1(x)\n",
    "        m = nn.Dropout(p=0.5)\n",
    "        input = torch.randn(20, 16)\n",
    "        output1 = m(output1)\n",
    "        #print(output1.shape)\n",
    "        output2=self.out2(output1)\n",
    "        #print(output2.shape)\n",
    "        return output2,x\n",
    "\n",
    "    \n"
   ]
  },
  {
   "cell_type": "code",
   "execution_count": null,
   "id": "10202fba",
   "metadata": {},
   "outputs": [],
   "source": [
    "cnn1=Convolutiond()\n",
    "print(cnn1)"
   ]
  },
  {
   "cell_type": "code",
   "execution_count": null,
   "id": "a48d61c8",
   "metadata": {},
   "outputs": [],
   "source": [
    "def test():\n",
    "    cnn1.eval()\n",
    "    with torch.no_grad():\n",
    "        correct=0\n",
    "        total=0\n",
    "        for images, labels in shuffled_data['test']:\n",
    "            output_test,last_layer=cnn1(images)\n",
    "            pred_y=torch.max(output_test,1)[1].data.squeeze()\n",
    "            accuracy = (pred_y==labels).sum().item()/float(labels.size(0))\n",
    "            pass\n",
    "        pass\n",
    "    return accuracy"
   ]
  },
  {
   "cell_type": "code",
   "execution_count": null,
   "id": "7790a5a0",
   "metadata": {},
   "outputs": [],
   "source": [
    "from torch.autograd import Variable\n",
    "\n",
    "num_epochs=15\n",
    "acclist=[]\n",
    "def train(num_epochs,cnn,shuffled_data):\n",
    "    cnn1.train()\n",
    "    \n",
    "    step_size=len(shuffled_data['train'])\n",
    "    \n",
    "    for epoch in range(num_epochs):\n",
    "        for i, (images,labels) in enumerate(shuffled_data['train']):\n",
    "            batch_x=Variable(images)\n",
    "            batch_y=Variable(labels)\n",
    "           # print(batch_x[0].shape\n",
    "            output=cnn1(batch_x)[0]\n",
    "            if(epoch==14):\n",
    "                bn2=cnn1.bn1\n",
    "       # print(output)\n",
    "        #print(output.dtype)\n",
    "      #  output  = torch.stack(list(output), dim=0)\n",
    "            loss=entropy_loss(output,batch_y)\n",
    "            optimizer.zero_grad()\n",
    "    \n",
    "            loss.backward()\n",
    "            optimizer.step()\n",
    "            \n",
    "            #print(i)\n",
    "            if (i+1) %100 ==0:\n",
    "                print ('Epoch [{}/{}], Step [{}/{}], Loss: {:.4f}' \n",
    "                        .format(epoch + 1, num_epochs, i + 1, step_size, loss.item()))\n",
    "                pass\n",
    "            pass\n",
    "        print(\"Test accuracy after epoch is: %.2f\"%test())\n",
    "        acclist.append(test())\n",
    "        pass\n",
    "    \n",
    "    \n",
    "train(num_epochs,cnn1,shuffled_data)\n",
    "final_accuracy=sum(acclist)/len(acclist)\n",
    "print(\"Model accuracy is:\" ,final_accuracy)\n",
    "\n",
    "\n"
   ]
  },
  {
   "cell_type": "code",
   "execution_count": null,
   "id": "a611e88e",
   "metadata": {},
   "outputs": [],
   "source": []
  },
  {
   "cell_type": "code",
   "execution_count": null,
   "id": "aca93730",
   "metadata": {},
   "outputs": [],
   "source": [
    "import torch.nn as nn\n",
    "class Convolutiond(nn.Module):\n",
    "    def __init__(self):\n",
    "        super(Convolutiond,self).__init__()\n",
    "        self.bn1=None\n",
    "        self.conv1=nn.Sequential(\n",
    "            nn.Conv2d(\n",
    "                in_channels=1,\n",
    "                out_channels=4,\n",
    "                kernel_size=5,\n",
    "                stride=1,\n",
    "                padding=2\n",
    "            ),\n",
    "            nn.ReLU(),\n",
    "            nn.MaxPool2d(kernel_size=2,stride=2),\n",
    "            )\n",
    "        self.conv2=nn.Sequential(\n",
    "            nn.Conv2d(4,4,5,1,2),\n",
    "            nn.ReLU(),\n",
    "            nn.MaxPool2d(2),\n",
    "        )\n",
    "        self.out1=nn.Linear(7*7*4,49)\n",
    "        self.out2=nn.Linear(49,10)\n",
    "    \n",
    "    def forward(self,x):\n",
    "       # x=torch.unsqueeze(x, 0)\n",
    "        x=self.conv1(x)\n",
    "        #print(x.shape)\n",
    "        x=self.conv2(x)\n",
    "        #3print(x.shape)\n",
    "        x=x.view(x.size(0),-1)\n",
    "        self.bn1=x\n",
    "        #print(x.shape)\n",
    "        output1=self.out1(x)\n",
    "        m = nn.Dropout(p=0.8)\n",
    "        output1 = m(output1)\n",
    "        #print(output1.shape)\n",
    "        output2=self.out2(output1)\n",
    "        #print(output2.shape)\n",
    "        return output2,x\n",
    "\n",
    "    \n"
   ]
  },
  {
   "cell_type": "code",
   "execution_count": null,
   "id": "2528bb15",
   "metadata": {},
   "outputs": [],
   "source": [
    "cnn1=Convolutiond()\n",
    "print(cnn1)"
   ]
  },
  {
   "cell_type": "code",
   "execution_count": null,
   "id": "343dbc7d",
   "metadata": {},
   "outputs": [],
   "source": [
    "def test():\n",
    "    cnn1.eval()\n",
    "    with torch.no_grad():\n",
    "        correct=0\n",
    "        total=0\n",
    "        for images, labels in shuffled_data['test']:\n",
    "            output_test,last_layer=cnn1(images)\n",
    "            pred_y=torch.max(output_test,1)[1].data.squeeze()\n",
    "            accuracy = (pred_y==labels).sum().item()/float(labels.size(0))\n",
    "            pass\n",
    "        pass\n",
    "    return accuracy"
   ]
  },
  {
   "cell_type": "code",
   "execution_count": null,
   "id": "6a7959cc",
   "metadata": {},
   "outputs": [],
   "source": [
    "from torch.autograd import Variable\n",
    "\n",
    "num_epochs=15\n",
    "acclist=[]\n",
    "def train(num_epochs,cnn,shuffled_data):\n",
    "    cnn1.train()\n",
    "    \n",
    "    step_size=len(shuffled_data['train'])\n",
    "    \n",
    "    for epoch in range(num_epochs):\n",
    "        for i, (images,labels) in enumerate(shuffled_data['train']):\n",
    "            batch_x=Variable(images)\n",
    "            batch_y=Variable(labels)\n",
    "           # print(batch_x[0].shape\n",
    "            output=cnn1(batch_x)[0]\n",
    "            if(epoch==14):\n",
    "                bn2=cnn1.bn1\n",
    "       # print(output)\n",
    "        #print(output.dtype)\n",
    "      #  output  = torch.stack(list(output), dim=0)\n",
    "            loss=entropy_loss(output,batch_y)\n",
    "            optimizer.zero_grad()\n",
    "    \n",
    "            loss.backward()\n",
    "            optimizer.step()\n",
    "            \n",
    "            #print(i)\n",
    "            if (i+1) %100 ==0:\n",
    "                print ('Epoch [{}/{}], Step [{}/{}], Loss: {:.4f}' \n",
    "                        .format(epoch + 1, num_epochs, i + 1, step_size, loss.item()))\n",
    "                pass\n",
    "            pass\n",
    "        print(\"Test accuracy after epoch is: %.2f\"%test())\n",
    "        acclist.append(test())\n",
    "        pass\n",
    "    \n",
    "    \n",
    "train(num_epochs,cnn1,shuffled_data)\n",
    "final_accuracy=sum(acclist)/len(acclist)\n",
    "print(\"Model accuracy is:\" ,final_accuracy)\n",
    "\n",
    "\n"
   ]
  },
  {
   "cell_type": "markdown",
   "id": "82e62cb1",
   "metadata": {},
   "source": [
    "With batch Normalization"
   ]
  },
  {
   "cell_type": "code",
   "execution_count": null,
   "id": "57f282eb",
   "metadata": {},
   "outputs": [],
   "source": [
    "import torch.nn as nn\n",
    "class Convolutiondb(nn.Module):\n",
    "    def __init__(self):\n",
    "        super(Convolutiondb,self).__init__()\n",
    "        self.bn1=None\n",
    "        self.conv1=nn.Sequential(\n",
    "            nn.Conv2d(\n",
    "                in_channels=1,\n",
    "                out_channels=4,\n",
    "                kernel_size=5,\n",
    "                stride=1,\n",
    "                padding=2\n",
    "            ),\n",
    "            nn.ReLU(),\n",
    "            nn.MaxPool2d(kernel_size=2,stride=2),\n",
    "            )\n",
    "        self.conv2=nn.Sequential(\n",
    "            nn.Conv2d(4,4,5,1,2),\n",
    "            nn.ReLU(),\n",
    "            nn.MaxPool2d(2),\n",
    "        )\n",
    "        self.out1=nn.Linear(7*7*4,49)\n",
    "        self.out2=nn.Linear(49,10)\n",
    "    \n",
    "    def forward(self,x):\n",
    "       # x=torch.unsqueeze(x, 0)\n",
    "        x=self.conv1(x)\n",
    "        #print(x.shape)\n",
    "        x=self.conv2(x)\n",
    "        #3print(x.shape)\n",
    "        x=x.view(x.size(0),-1)\n",
    "        self.bn1=x\n",
    "        #print(x.shape)\n",
    "        output1=self.out1(x)\n",
    "        m = nn.Dropout(p=0.2)\n",
    "        output1 = m(output1)\n",
    "        n = nn.BatchNorm1d(49, affine=False)\n",
    "      #  inputval = torch.randn(22, 102)\n",
    "        output1 = n(output1)\n",
    "        #print(output1.shape)\n",
    "        output2=self.out2(output1)\n",
    "        #print(output2.shape)\n",
    "        return output2,x\n",
    "\n",
    "    \n"
   ]
  },
  {
   "cell_type": "code",
   "execution_count": null,
   "id": "2671e38d",
   "metadata": {},
   "outputs": [],
   "source": [
    "cnn1=Convolutiondb()\n",
    "print(cnn1)"
   ]
  },
  {
   "cell_type": "code",
   "execution_count": null,
   "id": "3ecd4f94",
   "metadata": {},
   "outputs": [],
   "source": [
    "def test():\n",
    "    cnn1.eval()\n",
    "    with torch.no_grad():\n",
    "        correct=0\n",
    "        total=0\n",
    "        for images, labels in shuffled_data['test']:\n",
    "            output_test,last_layer=cnn1(images)\n",
    "            pred_y=torch.max(output_test,1)[1].data.squeeze()\n",
    "            accuracy = (pred_y==labels).sum().item()/float(labels.size(0))\n",
    "            pass\n",
    "        pass\n",
    "    return accuracy"
   ]
  },
  {
   "cell_type": "code",
   "execution_count": null,
   "id": "82d1c349",
   "metadata": {},
   "outputs": [],
   "source": [
    "from torch.autograd import Variable\n",
    "\n",
    "num_epochs=15\n",
    "acclist=[]\n",
    "def train(num_epochs,cnn,shuffled_data):\n",
    "    cnn1.train()\n",
    "    \n",
    "    step_size=len(shuffled_data['train'])\n",
    "    \n",
    "    for epoch in range(num_epochs):\n",
    "        for i, (images,labels) in enumerate(shuffled_data['train']):\n",
    "            batch_x=Variable(images)\n",
    "            batch_y=Variable(labels)\n",
    "           # print(batch_x[0].shape\n",
    "            output=cnn1(batch_x)[0]\n",
    "            if(epoch==14):\n",
    "                bn2=cnn1.bn1\n",
    "       # print(output)\n",
    "        #print(output.dtype)\n",
    "      #  output  = torch.stack(list(output), dim=0)\n",
    "            loss=entropy_loss(output,batch_y)\n",
    "            optimizer.zero_grad()\n",
    "    \n",
    "            loss.backward()\n",
    "            optimizer.step()\n",
    "            \n",
    "            #print(i)\n",
    "            if (i+1) %100 ==0:\n",
    "                print ('Epoch [{}/{}], Step [{}/{}], Loss: {:.4f}' \n",
    "                        .format(epoch + 1, num_epochs, i + 1, step_size, loss.item()))\n",
    "                pass\n",
    "            pass\n",
    "        print(\"Test accuracy after epoch is: %.2f\"%test())\n",
    "        acclist.append(test())\n",
    "        pass\n",
    "    \n",
    "    \n",
    "train(num_epochs,cnn1,shuffled_data)\n",
    "final_accuracy=sum(acclist)/len(acclist)\n",
    "print(\"Model accuracy is:\" ,final_accuracy)\n",
    "\n",
    "\n"
   ]
  },
  {
   "cell_type": "code",
   "execution_count": null,
   "id": "a3a11e2e",
   "metadata": {},
   "outputs": [],
   "source": []
  },
  {
   "cell_type": "code",
   "execution_count": null,
   "id": "d4a36367",
   "metadata": {},
   "outputs": [],
   "source": []
  },
  {
   "cell_type": "code",
   "execution_count": null,
   "id": "7651847f",
   "metadata": {},
   "outputs": [],
   "source": []
  },
  {
   "cell_type": "markdown",
   "id": "f03f3587",
   "metadata": {},
   "source": [
    "SGD"
   ]
  },
  {
   "cell_type": "code",
   "execution_count": null,
   "id": "8a369651",
   "metadata": {},
   "outputs": [],
   "source": [
    "from torch import optim\n",
    "optimizer1=optim.SGD(cnn.parameters(), lr=0.001)\n",
    "optimizer1  "
   ]
  },
  {
   "cell_type": "code",
   "execution_count": null,
   "id": "bbfb1f65",
   "metadata": {},
   "outputs": [],
   "source": [
    "from torch.autograd import Variable\n",
    "\n",
    "num_epochs=15\n",
    "acclist1=[]\n",
    "def train(num_epochs,cnn,shuffled_data):\n",
    "    cnn.train()\n",
    "    \n",
    "    step_size=len(shuffled_data['train'])\n",
    "    \n",
    "    for epoch in range(num_epochs):\n",
    "        for i, (images,labels) in enumerate(shuffled_data['train']):\n",
    "            batch_x=Variable(images)\n",
    "            batch_y=Variable(labels)\n",
    "           # print(batch_x[0].shape)\n",
    "            \n",
    "            output=cnn(batch_x)[0]\n",
    "       # print(output)\n",
    "        #print(output.dtype)\n",
    "      #  output  = torch.stack(list(output), dim=0)\n",
    "            loss=entropy_loss(output,batch_y)\n",
    "            optimizer1.zero_grad()\n",
    "    \n",
    "            loss.backward()\n",
    "            optimizer1.step()\n",
    "            #print(i)\n",
    "            if (i+1) %100 ==0:\n",
    "                print ('Epoch [{}/{}], Step [{}/{}], Loss: {:.4f}' \n",
    "                        .format(epoch + 1, num_epochs, i + 1, step_size, loss.item()))\n",
    "                pass\n",
    "            pass\n",
    "        print(\"Test accuracy after epoch is: %.2f\"%test())\n",
    "        acclist1.append(test())\n",
    "        pass\n",
    "train(num_epochs,cnn,shuffled_data)\n",
    "final_accuracy=sum(acclist1)/len(acclist1)\n",
    "print(\"Model accuracy is:\" ,final_accuracy)\n",
    "\n",
    "\n"
   ]
  },
  {
   "cell_type": "code",
   "execution_count": null,
   "id": "38b84c36",
   "metadata": {},
   "outputs": [],
   "source": [
    "import matplotlib.pyplot as plt\n",
    "activation=cnn.activation1\n",
    "activation=activation.detach().numpy()\n",
    "\n"
   ]
  },
  {
   "cell_type": "code",
   "execution_count": null,
   "id": "f72a1673",
   "metadata": {},
   "outputs": [],
   "source": [
    "for i in range(4):\n",
    "    plt.imshow(activation[0][i])\n",
    "    plt.show()"
   ]
  },
  {
   "cell_type": "code",
   "execution_count": null,
   "id": "1cf4191e",
   "metadata": {},
   "outputs": [],
   "source": [
    "activation=cnn.activation2\n",
    "activation=activation.detach().numpy()\n",
    "for i in range(4):\n",
    "    plt.imshow(activation[0][i])\n",
    "    plt.show()"
   ]
  },
  {
   "cell_type": "markdown",
   "id": "59c3d493",
   "metadata": {},
   "source": [
    "SGD with momentum"
   ]
  },
  {
   "cell_type": "code",
   "execution_count": null,
   "id": "e7720316",
   "metadata": {},
   "outputs": [],
   "source": [
    "from torch import optim\n",
    "optimizer2=optim.SGD(cnn.parameters(), lr=0.001,momentum=0.9)\n",
    "optimizer2 "
   ]
  },
  {
   "cell_type": "code",
   "execution_count": null,
   "id": "3ccd5596",
   "metadata": {},
   "outputs": [],
   "source": [
    "from torch.autograd import Variable\n",
    "\n",
    "num_epochs=15\n",
    "acclist2=[]\n",
    "def train(num_epochs,cnn,shuffled_data):\n",
    "    cnn.train()\n",
    "    \n",
    "    step_size=len(shuffled_data['train'])\n",
    "    \n",
    "    for epoch in range(num_epochs):\n",
    "        for i, (images,labels) in enumerate(shuffled_data['train']):\n",
    "            batch_x=Variable(images)\n",
    "            batch_y=Variable(labels)\n",
    "           # print(batch_x[0].shape)\n",
    "            \n",
    "            output=cnn(batch_x)[0]\n",
    "       # print(output)\n",
    "        #print(output.dtype)\n",
    "      #  output  = torch.stack(list(output), dim=0)\n",
    "            loss=entropy_loss(output,batch_y)\n",
    "            optimizer2.zero_grad()\n",
    "    \n",
    "            loss.backward()\n",
    "            optimizer2.step()\n",
    "            #print(i)\n",
    "            if (i+1) %100 ==0:\n",
    "                print ('Epoch [{}/{}], Step [{}/{}], Loss: {:.4f}' \n",
    "                        .format(epoch + 1, num_epochs, i + 1, step_size, loss.item()))\n",
    "                pass\n",
    "            pass\n",
    "        print(\"Test accuracy after epoch is: %.2f\"%test())\n",
    "        acclist2.append(test())\n",
    "        pass\n",
    "train(num_epochs,cnn,shuffled_data)\n",
    "final_accuracy=sum(acclist2)/len(acclist2)\n",
    "print(\"Model accuracy is:\" ,final_accuracy)\n",
    "\n"
   ]
  },
  {
   "cell_type": "code",
   "execution_count": null,
   "id": "4bab012b",
   "metadata": {},
   "outputs": [],
   "source": [
    "\n",
    "import matplotlib.pyplot as plt\n",
    "activation=cnn.activation1\n",
    "activation=activation.detach().numpy()\n",
    "for i in range(4):\n",
    "    plt.imshow(activation[0][i])\n",
    "    plt.show()\n",
    "\n"
   ]
  },
  {
   "cell_type": "code",
   "execution_count": null,
   "id": "889e5344",
   "metadata": {},
   "outputs": [],
   "source": [
    "activation=cnn.activation2\n",
    "activation=activation.detach().numpy()\n",
    "for i in range(4):\n",
    "    plt.imshow(activation[0][i])\n",
    "    plt.show()"
   ]
  },
  {
   "cell_type": "code",
   "execution_count": null,
   "id": "fd86db43",
   "metadata": {},
   "outputs": [],
   "source": []
  },
  {
   "cell_type": "markdown",
   "id": "27111622",
   "metadata": {},
   "source": [
    "Q5"
   ]
  },
  {
   "cell_type": "raw",
   "id": "259229b5",
   "metadata": {},
   "source": [
    "In HW4 my model achieved accuracy around 84 percent.\n",
    "In HW5 with effective implementation of inbuilt conv layers I could see 98 percent accuracy.\n",
    "I could also see clusters clearly after 15 th epoch."
   ]
  },
  {
   "cell_type": "markdown",
   "id": "e8af6228",
   "metadata": {},
   "source": [
    "Q6"
   ]
  },
  {
   "cell_type": "raw",
   "id": "66118fd8",
   "metadata": {},
   "source": [
    "With dropouts training loss increases and their is a decrease in test acuuracy.\n",
    "But this generalization method overfitting decrease and overall generalization accuracy increases."
   ]
  },
  {
   "cell_type": "code",
   "execution_count": null,
   "id": "049f5ae4",
   "metadata": {},
   "outputs": [],
   "source": []
  }
 ],
 "metadata": {
  "kernelspec": {
   "display_name": "Python 3",
   "language": "python",
   "name": "python3"
  },
  "language_info": {
   "codemirror_mode": {
    "name": "ipython",
    "version": 3
   },
   "file_extension": ".py",
   "mimetype": "text/x-python",
   "name": "python",
   "nbconvert_exporter": "python",
   "pygments_lexer": "ipython3",
   "version": "3.8.8"
  }
 },
 "nbformat": 4,
 "nbformat_minor": 5
}
