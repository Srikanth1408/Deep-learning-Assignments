{
 "cells": [
  {
   "cell_type": "markdown",
   "id": "ee2a2279",
   "metadata": {},
   "source": [
    "1. Convolution function:"
   ]
  },
  {
   "cell_type": "code",
   "execution_count": 687,
   "id": "666d8393",
   "metadata": {},
   "outputs": [],
   "source": [
    "def unpickle(file):\n",
    "    import pickle\n",
    "    with open(file, 'rb') as fo:\n",
    "        dict = pickle.load(fo, encoding='latin1')\n",
    "    return dict"
   ]
  },
  {
   "cell_type": "code",
   "execution_count": 688,
   "id": "e4a7d694",
   "metadata": {},
   "outputs": [],
   "source": [
    "a2=unpickle(r\"D:\\Deep Learning\\cifar-10-batches-py\\data_batch_2\")\n",
    "training_labels=a2.get('labels')\n"
   ]
  },
  {
   "cell_type": "code",
   "execution_count": 689,
   "id": "e7f3c0f2",
   "metadata": {},
   "outputs": [],
   "source": [
    "image1=a2['data'][0]"
   ]
  },
  {
   "cell_type": "code",
   "execution_count": 690,
   "id": "a8a21b23",
   "metadata": {},
   "outputs": [
    {
     "data": {
      "text/plain": [
       "(3, 32, 32)"
      ]
     },
     "execution_count": 690,
     "metadata": {},
     "output_type": "execute_result"
    }
   ],
   "source": [
    "image1=image1.reshape(3,32,32)\n",
    "image1.shape"
   ]
  },
  {
   "cell_type": "code",
   "execution_count": 691,
   "id": "7e8438dc",
   "metadata": {},
   "outputs": [
    {
     "name": "stdout",
     "output_type": "stream",
     "text": [
      "(32, 32, 3)\n"
     ]
    }
   ],
   "source": [
    "import matplotlib.pyplot as plt\n",
    "image1=image1.transpose(1,2,0)\n",
    "print(image1.shape)\n"
   ]
  },
  {
   "cell_type": "code",
   "execution_count": 692,
   "id": "f4b7890f",
   "metadata": {},
   "outputs": [],
   "source": [
    "def pad(img,pad_width):\n",
    "    img_pad = np.zeros(shape=(\n",
    "        img.shape[0] + pad_width * 2,\n",
    "        img.shape[1] + pad_width * 2\n",
    "    ))\n",
    "    img_pad[pad_width:-pad_width, pad_width:-pad_width] = img\n",
    "    \n",
    "    return img_pad"
   ]
  },
  {
   "cell_type": "code",
   "execution_count": 693,
   "id": "ace7e576",
   "metadata": {},
   "outputs": [],
   "source": [
    "import numpy as np\n",
    "kernel2=np.array([[[0,-1,0],\n",
    "                  [-1,5,-1],\n",
    "                  [0,-1,0]],\n",
    "                 \n",
    "                 [[0,-1,0],\n",
    "                  [-1,5,-1],\n",
    "                  [0,-1,0]],\n",
    "                 \n",
    "                  [[0,-1,0],\n",
    "                  [-1,5,-1],\n",
    "                  [0,-1,0]]])"
   ]
  },
  {
   "cell_type": "code",
   "execution_count": 694,
   "id": "5bddb220",
   "metadata": {},
   "outputs": [],
   "source": [
    "def activ(a1,a,param):\n",
    "    if a1=='sigmoid':\n",
    "        return 1/(1 + np.exp(-a))\n",
    "    if a1=='tanh':\n",
    "        return np.tanh(a)\n",
    "    if a1=='RELU':\n",
    "        a[a<=0]=0\n",
    "        return a\n",
    "    if a1=='PRELU':\n",
    "        a[a<=0]=param*a[a<=0]\n",
    "        return a\n",
    "        \n",
    "        "
   ]
  },
  {
   "cell_type": "code",
   "execution_count": 695,
   "id": "3d91213e",
   "metadata": {},
   "outputs": [],
   "source": [
    "def convolution(pic,kernel,stride,pad_width,nonfun):\n",
    "    plt.imshow(pic)\n",
    "    print(kernel)\n",
    "    s_hgt = pic.shape[0]\n",
    "    s_wth = pic.shape[1]\n",
    "    s_dth = pic.shape[2]\n",
    "    m=round((s_hgt-kernel.shape[0]+2*pad_width)/stride)+1\n",
    "    n=round((s_wth-kernel.shape[1]+2*pad_width)/stride)+1\n",
    "    ar = np.zeros((m,n,s_dth))\n",
    "    for x in range(s_dth): \n",
    "        pic_ = pic[:,:,x]\n",
    "        kernel1 = kernel[:,:,x]         #flipping kernel as either of kernel or image should be flipped                                                \n",
    "        kernel1 = np.flip(kernel1)\n",
    "        kernel1h, kernel1w = kernel1.shape\n",
    "\n",
    "                                            #padding is done to take care of proper convolution\n",
    "        pic_pad =pad(pic_, kernel1h - 1)\n",
    "        m=round((s_hgt-kernel.shape[0]+2*pad_width)/stride)+1\n",
    "        n=round((s_wth-kernel.shape[1]+2*pad_width)/stride)+1\n",
    "\n",
    "        convl_pic = np.zeros((m,n))\n",
    "\n",
    "                                              # Move through the row and coulum for 258 size\n",
    "        for i in range(0,m):\n",
    "            for j  in range(0,n):\n",
    "                                              # get the subarray for multiplying and further adding\n",
    "\n",
    "                sub_array = pic_pad[i*stride :i*stride + kernel1h , j*stride:j*stride + kernel1w]\n",
    "                convl_pic[i,j] = np.sum(sub_array * kernel1)\n",
    "\n",
    "        ar[:,:,x] = ar[:,:,x] + convl_pic\n",
    "        \n",
    "    sum = np.zeros((s_hgt, s_wth));\n",
    "    sum = ar[:,:,0]+ar[:,:,1]+ar[:,:,2]\n",
    "    \n",
    "    sum/=(sum.max()/255.0)\n",
    "    sum1=activ('RELU',sum,0.2)\n",
    "    return sum1"
   ]
  },
  {
   "cell_type": "code",
   "execution_count": 696,
   "id": "3be9e542",
   "metadata": {},
   "outputs": [
    {
     "name": "stdout",
     "output_type": "stream",
     "text": [
      "[[[ 0 -1  0]\n",
      "  [-1  5 -1]\n",
      "  [ 0 -1  0]]\n",
      "\n",
      " [[ 0 -1  0]\n",
      "  [-1  5 -1]\n",
      "  [ 0 -1  0]]\n",
      "\n",
      " [[ 0 -1  0]\n",
      "  [-1  5 -1]\n",
      "  [ 0 -1  0]]]\n"
     ]
    },
    {
     "data": {
      "text/plain": [
       "array([[  0.        ,   2.96224589,   2.71539206,   0.        ,\n",
       "          3.45595353,   1.97483059,   0.        ,  37.76863504,\n",
       "         28.14133591,  25.9196515 ,  33.81897386,  21.22942885,\n",
       "         25.42594385,  22.71055179,  36.53436592,  34.55953533,\n",
       "         53.07357212],\n",
       "       [  0.        ,  15.30493708,   7.15876089,   6.1713456 ,\n",
       "         10.86156825,  10.12100678,   0.        , 118.24298161,\n",
       "         74.30300097, 108.61568248,  87.13939981,  82.9428848 ,\n",
       "        102.44433688,  83.43659245,  91.58276864,  68.13165537,\n",
       "        114.78702807],\n",
       "       [  0.        ,  44.43368829,   8.88673766,  16.78606002,\n",
       "         20.48886738,  24.43852856,   0.        , 127.37657309,\n",
       "         72.32817038, 118.98354308, 104.91287512, 101.95062924,\n",
       "        120.71151985, 100.96321394,  89.85479187,  46.16166505,\n",
       "         93.80445305],\n",
       "       [  0.        ,  62.94772507,  17.77347531,  30.11616651,\n",
       "         39.99031946,  14.07066796,   0.        , 129.10454985,\n",
       "         87.38625363, 125.89545015, 118.98354308, 112.56534366,\n",
       "        106.64085189, 104.17231365,  87.63310745,  57.0232333 ,\n",
       "        137.00387222],\n",
       "       [  0.        ,  58.50435624,  28.38818974,  44.68054211,\n",
       "         75.78412391,   0.        ,   0.        ,  95.03872217,\n",
       "        121.69893514, 114.29332043, 125.4017425 ,  86.64569216,\n",
       "        114.0464666 , 110.59051307,  82.69603098,  52.08615682,\n",
       "        142.92836399],\n",
       "       [  0.        ,  61.46660213,  35.05324298,  44.68054211,\n",
       "         85.16456922,  30.11616651,  23.45111326,  98.24782188,\n",
       "        165.39206196,  38.75605034, 100.71636012,  50.11132623,\n",
       "        144.90319458,  90.84220716,  87.38625363,  58.75121007,\n",
       "        116.51500484],\n",
       "       [  0.        ,  61.71345595,  42.70571152,  51.59244918,\n",
       "         61.71345595,  80.96805421,  75.53727009,  39.99031946,\n",
       "         49.61761859,  20.98257502,  44.43368829,  46.6553727 ,\n",
       "         47.642788  ,  47.14908035,  39.24975799,  48.63020329,\n",
       "        112.56534366],\n",
       "       [  0.        ,  68.3785092 ,  52.08615682,  58.25750242,\n",
       "         63.44143272,  41.71829622,  60.97289448,  31.1035818 ,\n",
       "         40.73088093,  45.42110358,  44.92739593,  49.12391094,\n",
       "         49.61761859,  30.60987415,  10.12100678,  53.81413359,\n",
       "         85.16456922],\n",
       "       [  0.        , 104.17231365,  51.839303  ,  40.23717328,\n",
       "        141.69409487,  28.63504356,  92.57018393,   4.196515  ,\n",
       "         96.76669894,  95.03872217,  89.85479187,  87.63310745,\n",
       "         96.51984511,   0.        ,  19.74830591,  64.42884802,\n",
       "         71.09390126],\n",
       "       [  0.        , 107.87512101,  73.80929332,   0.        ,\n",
       "         64.42884802,  70.10648596,  69.36592449,  15.5517909 ,\n",
       "         51.34559535,  48.38334947,  48.13649564,  52.8267183 ,\n",
       "         60.72604066,  34.55953533,  62.94772507,  82.9428848 ,\n",
       "        155.02420136],\n",
       "       [  0.        ,  97.26040658,  82.44917715,  56.52952565,\n",
       "         61.96030978,  68.3785092 ,  57.76379477,  79.24007744,\n",
       "         88.37366893,  93.3107454 , 102.19748306, 111.08422072,\n",
       "        108.8625363 , 110.83736689, 116.76185866, 109.35624395,\n",
       "        232.53630203],\n",
       "       [  0.        , 116.51500484, 117.99612778, 115.0338819 ,\n",
       "        117.25556631, 120.2178122 , 120.46466602, 125.64859632,\n",
       "        126.88286544, 124.16747338, 125.64859632, 122.68635044,\n",
       "        124.90803485, 125.4017425 , 122.19264279, 123.18005808,\n",
       "        249.56921588],\n",
       "       [  0.        , 115.28073572, 120.2178122 , 121.69893514,\n",
       "        124.90803485, 126.88286544, 127.87028074, 124.4143272 ,\n",
       "        126.88286544, 127.87028074, 125.4017425 , 126.88286544,\n",
       "        127.37657309, 126.14230397, 125.15488867, 127.12971926,\n",
       "        252.28460794],\n",
       "       [  0.        , 114.29332043, 117.99612778, 118.73668925,\n",
       "        122.68635044, 125.15488867, 126.88286544, 122.93320426,\n",
       "        126.14230397, 119.72410455, 127.12971926, 123.92061955,\n",
       "        128.85769603, 126.88286544, 127.87028074, 124.4143272 ,\n",
       "        255.        ],\n",
       "       [  0.        , 111.08422072, 122.43949661, 121.20522749,\n",
       "        116.76185866, 125.4017425 , 125.4017425 , 126.88286544,\n",
       "        125.64859632, 123.67376573, 125.64859632, 122.43949661,\n",
       "        129.10454985, 130.83252662, 133.30106486, 126.14230397,\n",
       "        252.53146176],\n",
       "       [  0.        , 117.25556631, 122.68635044, 125.89545015,\n",
       "        123.42691191, 129.35140368, 122.19264279, 125.64859632,\n",
       "        126.38915779, 128.11713456, 125.15488867, 130.09196515,\n",
       "        126.14230397, 126.38915779, 127.62342691, 128.36398838,\n",
       "        245.86640852],\n",
       "       [  0.        ,  82.44917715,  82.44917715,  83.43659245,\n",
       "         81.21490803,  85.65827686,  82.9428848 ,  82.44917715,\n",
       "         84.17715392,  83.68344627,  83.43659245,  83.18973863,\n",
       "         83.43659245,  83.9303001 ,  82.9428848 ,  83.9303001 ,\n",
       "        161.93610842]])"
      ]
     },
     "execution_count": 696,
     "metadata": {},
     "output_type": "execute_result"
    },
    {
     "data": {
      "image/png": "[encoded data removed]",
      "text/plain": [
       "<Figure size 576x432 with 1 Axes>"
      ]
     },
     "metadata": {
      "needs_background": "light"
     },
     "output_type": "display_data"
    }
   ],
   "source": [
    "import matplotlib.pyplot as plt\n",
    "\n",
    "a5=convolution(image1,kernel2,2,2,'tanh')\n",
    "a5"
   ]
  },
  {
   "cell_type": "markdown",
   "id": "fc27264d",
   "metadata": {},
   "source": [
    "2.Pooling function:"
   ]
  },
  {
   "cell_type": "code",
   "execution_count": 697,
   "id": "85484ce3",
   "metadata": {},
   "outputs": [],
   "source": [
    "def pooling(activation_map,pooling_type,pooling,stride):\n",
    "    (l,h)=activation_map.shape\n",
    "    amap=np.zeros((((l-pooling)//stride)+1,((l-pooling)//stride)+1))\n",
    "    print(l,h,amap.shape)\n",
    "    \n",
    "    n=0\n",
    "    for i in range(0,h-1,stride):\n",
    "        m=0\n",
    "        for j in range(0,l-1,stride):\n",
    "            if (pooling_type=='max'):\n",
    "                amap[n,m]=np.max(activation_map[j:j+pooling,i:i+pooling])\n",
    "            if (pooling_type=='mean'):\n",
    "                amap[n,m]=np.mean(activation_map[j:j+pooling,i:i+pooling])\n",
    "            if (pooling_type=='min'):\n",
    "                amap[n,m]=np.min(activation_map[j:j+pooling,i:i+pooling])\n",
    "            m=m+1\n",
    "        n=n+1\n",
    "    return activation_map,amap"
   ]
  },
  {
   "cell_type": "code",
   "execution_count": 698,
   "id": "581fdd1b",
   "metadata": {},
   "outputs": [
    {
     "name": "stdout",
     "output_type": "stream",
     "text": [
      "17 17 (8, 8)\n"
     ]
    },
    {
     "data": {
      "text/plain": [
       "(array([[  0.        ,   2.96224589,   2.71539206,   0.        ,\n",
       "           3.45595353,   1.97483059,   0.        ,  37.76863504,\n",
       "          28.14133591,  25.9196515 ,  33.81897386,  21.22942885,\n",
       "          25.42594385,  22.71055179,  36.53436592,  34.55953533,\n",
       "          53.07357212],\n",
       "        [  0.        ,  15.30493708,   7.15876089,   6.1713456 ,\n",
       "          10.86156825,  10.12100678,   0.        , 118.24298161,\n",
       "          74.30300097, 108.61568248,  87.13939981,  82.9428848 ,\n",
       "         102.44433688,  83.43659245,  91.58276864,  68.13165537,\n",
       "         114.78702807],\n",
       "        [  0.        ,  44.43368829,   8.88673766,  16.78606002,\n",
       "          20.48886738,  24.43852856,   0.        , 127.37657309,\n",
       "          72.32817038, 118.98354308, 104.91287512, 101.95062924,\n",
       "         120.71151985, 100.96321394,  89.85479187,  46.16166505,\n",
       "          93.80445305],\n",
       "        [  0.        ,  62.94772507,  17.77347531,  30.11616651,\n",
       "          39.99031946,  14.07066796,   0.        , 129.10454985,\n",
       "          87.38625363, 125.89545015, 118.98354308, 112.56534366,\n",
       "         106.64085189, 104.17231365,  87.63310745,  57.0232333 ,\n",
       "         137.00387222],\n",
       "        [  0.        ,  58.50435624,  28.38818974,  44.68054211,\n",
       "          75.78412391,   0.        ,   0.        ,  95.03872217,\n",
       "         121.69893514, 114.29332043, 125.4017425 ,  86.64569216,\n",
       "         114.0464666 , 110.59051307,  82.69603098,  52.08615682,\n",
       "         142.92836399],\n",
       "        [  0.        ,  61.46660213,  35.05324298,  44.68054211,\n",
       "          85.16456922,  30.11616651,  23.45111326,  98.24782188,\n",
       "         165.39206196,  38.75605034, 100.71636012,  50.11132623,\n",
       "         144.90319458,  90.84220716,  87.38625363,  58.75121007,\n",
       "         116.51500484],\n",
       "        [  0.        ,  61.71345595,  42.70571152,  51.59244918,\n",
       "          61.71345595,  80.96805421,  75.53727009,  39.99031946,\n",
       "          49.61761859,  20.98257502,  44.43368829,  46.6553727 ,\n",
       "          47.642788  ,  47.14908035,  39.24975799,  48.63020329,\n",
       "         112.56534366],\n",
       "        [  0.        ,  68.3785092 ,  52.08615682,  58.25750242,\n",
       "          63.44143272,  41.71829622,  60.97289448,  31.1035818 ,\n",
       "          40.73088093,  45.42110358,  44.92739593,  49.12391094,\n",
       "          49.61761859,  30.60987415,  10.12100678,  53.81413359,\n",
       "          85.16456922],\n",
       "        [  0.        , 104.17231365,  51.839303  ,  40.23717328,\n",
       "         141.69409487,  28.63504356,  92.57018393,   4.196515  ,\n",
       "          96.76669894,  95.03872217,  89.85479187,  87.63310745,\n",
       "          96.51984511,   0.        ,  19.74830591,  64.42884802,\n",
       "          71.09390126],\n",
       "        [  0.        , 107.87512101,  73.80929332,   0.        ,\n",
       "          64.42884802,  70.10648596,  69.36592449,  15.5517909 ,\n",
       "          51.34559535,  48.38334947,  48.13649564,  52.8267183 ,\n",
       "          60.72604066,  34.55953533,  62.94772507,  82.9428848 ,\n",
       "         155.02420136],\n",
       "        [  0.        ,  97.26040658,  82.44917715,  56.52952565,\n",
       "          61.96030978,  68.3785092 ,  57.76379477,  79.24007744,\n",
       "          88.37366893,  93.3107454 , 102.19748306, 111.08422072,\n",
       "         108.8625363 , 110.83736689, 116.76185866, 109.35624395,\n",
       "         232.53630203],\n",
       "        [  0.        , 116.51500484, 117.99612778, 115.0338819 ,\n",
       "         117.25556631, 120.2178122 , 120.46466602, 125.64859632,\n",
       "         126.88286544, 124.16747338, 125.64859632, 122.68635044,\n",
       "         124.90803485, 125.4017425 , 122.19264279, 123.18005808,\n",
       "         249.56921588],\n",
       "        [  0.        , 115.28073572, 120.2178122 , 121.69893514,\n",
       "         124.90803485, 126.88286544, 127.87028074, 124.4143272 ,\n",
       "         126.88286544, 127.87028074, 125.4017425 , 126.88286544,\n",
       "         127.37657309, 126.14230397, 125.15488867, 127.12971926,\n",
       "         252.28460794],\n",
       "        [  0.        , 114.29332043, 117.99612778, 118.73668925,\n",
       "         122.68635044, 125.15488867, 126.88286544, 122.93320426,\n",
       "         126.14230397, 119.72410455, 127.12971926, 123.92061955,\n",
       "         128.85769603, 126.88286544, 127.87028074, 124.4143272 ,\n",
       "         255.        ],\n",
       "        [  0.        , 111.08422072, 122.43949661, 121.20522749,\n",
       "         116.76185866, 125.4017425 , 125.4017425 , 126.88286544,\n",
       "         125.64859632, 123.67376573, 125.64859632, 122.43949661,\n",
       "         129.10454985, 130.83252662, 133.30106486, 126.14230397,\n",
       "         252.53146176],\n",
       "        [  0.        , 117.25556631, 122.68635044, 125.89545015,\n",
       "         123.42691191, 129.35140368, 122.19264279, 125.64859632,\n",
       "         126.38915779, 128.11713456, 125.15488867, 130.09196515,\n",
       "         126.14230397, 126.38915779, 127.62342691, 128.36398838,\n",
       "         245.86640852],\n",
       "        [  0.        ,  82.44917715,  82.44917715,  83.43659245,\n",
       "          81.21490803,  85.65827686,  82.9428848 ,  82.44917715,\n",
       "          84.17715392,  83.68344627,  83.43659245,  83.18973863,\n",
       "          83.43659245,  83.9303001 ,  82.9428848 ,  83.9303001 ,\n",
       "         161.93610842]]),\n",
       " array([[ 15.30493708,  62.94772507,  61.46660213,  68.3785092 ,\n",
       "         107.87512101, 116.51500484, 115.28073572, 117.25556631],\n",
       "        [  7.15876089,  30.11616651,  44.68054211,  58.25750242,\n",
       "          73.80929332, 117.99612778, 121.69893514, 125.89545015],\n",
       "        [ 10.86156825,  39.99031946,  85.16456922,  80.96805421,\n",
       "         141.69409487, 120.2178122 , 126.88286544, 129.35140368],\n",
       "        [118.24298161, 129.10454985,  98.24782188,  75.53727009,\n",
       "          92.57018393, 125.64859632, 127.87028074, 126.88286544],\n",
       "        [108.61568248, 125.89545015, 165.39206196,  49.61761859,\n",
       "          96.76669894, 126.88286544, 127.87028074, 128.11713456],\n",
       "        [ 87.13939981, 118.98354308, 125.4017425 ,  49.12391094,\n",
       "          89.85479187, 125.64859632, 127.12971926, 130.09196515],\n",
       "        [102.44433688, 120.71151985, 144.90319458,  49.61761859,\n",
       "          96.51984511, 125.4017425 , 128.85769603, 130.83252662],\n",
       "        [ 91.58276864,  89.85479187,  87.38625363,  53.81413359,\n",
       "          82.9428848 , 123.18005808, 127.87028074, 133.30106486]]))"
      ]
     },
     "execution_count": 698,
     "metadata": {},
     "output_type": "execute_result"
    }
   ],
   "source": [
    "pooling(a5,'max',2,2)"
   ]
  },
  {
   "cell_type": "code",
   "execution_count": 699,
   "id": "c1c931fb",
   "metadata": {},
   "outputs": [
    {
     "name": "stdout",
     "output_type": "stream",
     "text": [
      "17 17 (8, 8)\n"
     ]
    },
    {
     "data": {
      "text/plain": [
       "(array([[  0.        ,   2.96224589,   2.71539206,   0.        ,\n",
       "           3.45595353,   1.97483059,   0.        ,  37.76863504,\n",
       "          28.14133591,  25.9196515 ,  33.81897386,  21.22942885,\n",
       "          25.42594385,  22.71055179,  36.53436592,  34.55953533,\n",
       "          53.07357212],\n",
       "        [  0.        ,  15.30493708,   7.15876089,   6.1713456 ,\n",
       "          10.86156825,  10.12100678,   0.        , 118.24298161,\n",
       "          74.30300097, 108.61568248,  87.13939981,  82.9428848 ,\n",
       "         102.44433688,  83.43659245,  91.58276864,  68.13165537,\n",
       "         114.78702807],\n",
       "        [  0.        ,  44.43368829,   8.88673766,  16.78606002,\n",
       "          20.48886738,  24.43852856,   0.        , 127.37657309,\n",
       "          72.32817038, 118.98354308, 104.91287512, 101.95062924,\n",
       "         120.71151985, 100.96321394,  89.85479187,  46.16166505,\n",
       "          93.80445305],\n",
       "        [  0.        ,  62.94772507,  17.77347531,  30.11616651,\n",
       "          39.99031946,  14.07066796,   0.        , 129.10454985,\n",
       "          87.38625363, 125.89545015, 118.98354308, 112.56534366,\n",
       "         106.64085189, 104.17231365,  87.63310745,  57.0232333 ,\n",
       "         137.00387222],\n",
       "        [  0.        ,  58.50435624,  28.38818974,  44.68054211,\n",
       "          75.78412391,   0.        ,   0.        ,  95.03872217,\n",
       "         121.69893514, 114.29332043, 125.4017425 ,  86.64569216,\n",
       "         114.0464666 , 110.59051307,  82.69603098,  52.08615682,\n",
       "         142.92836399],\n",
       "        [  0.        ,  61.46660213,  35.05324298,  44.68054211,\n",
       "          85.16456922,  30.11616651,  23.45111326,  98.24782188,\n",
       "         165.39206196,  38.75605034, 100.71636012,  50.11132623,\n",
       "         144.90319458,  90.84220716,  87.38625363,  58.75121007,\n",
       "         116.51500484],\n",
       "        [  0.        ,  61.71345595,  42.70571152,  51.59244918,\n",
       "          61.71345595,  80.96805421,  75.53727009,  39.99031946,\n",
       "          49.61761859,  20.98257502,  44.43368829,  46.6553727 ,\n",
       "          47.642788  ,  47.14908035,  39.24975799,  48.63020329,\n",
       "         112.56534366],\n",
       "        [  0.        ,  68.3785092 ,  52.08615682,  58.25750242,\n",
       "          63.44143272,  41.71829622,  60.97289448,  31.1035818 ,\n",
       "          40.73088093,  45.42110358,  44.92739593,  49.12391094,\n",
       "          49.61761859,  30.60987415,  10.12100678,  53.81413359,\n",
       "          85.16456922],\n",
       "        [  0.        , 104.17231365,  51.839303  ,  40.23717328,\n",
       "         141.69409487,  28.63504356,  92.57018393,   4.196515  ,\n",
       "          96.76669894,  95.03872217,  89.85479187,  87.63310745,\n",
       "          96.51984511,   0.        ,  19.74830591,  64.42884802,\n",
       "          71.09390126],\n",
       "        [  0.        , 107.87512101,  73.80929332,   0.        ,\n",
       "          64.42884802,  70.10648596,  69.36592449,  15.5517909 ,\n",
       "          51.34559535,  48.38334947,  48.13649564,  52.8267183 ,\n",
       "          60.72604066,  34.55953533,  62.94772507,  82.9428848 ,\n",
       "         155.02420136],\n",
       "        [  0.        ,  97.26040658,  82.44917715,  56.52952565,\n",
       "          61.96030978,  68.3785092 ,  57.76379477,  79.24007744,\n",
       "          88.37366893,  93.3107454 , 102.19748306, 111.08422072,\n",
       "         108.8625363 , 110.83736689, 116.76185866, 109.35624395,\n",
       "         232.53630203],\n",
       "        [  0.        , 116.51500484, 117.99612778, 115.0338819 ,\n",
       "         117.25556631, 120.2178122 , 120.46466602, 125.64859632,\n",
       "         126.88286544, 124.16747338, 125.64859632, 122.68635044,\n",
       "         124.90803485, 125.4017425 , 122.19264279, 123.18005808,\n",
       "         249.56921588],\n",
       "        [  0.        , 115.28073572, 120.2178122 , 121.69893514,\n",
       "         124.90803485, 126.88286544, 127.87028074, 124.4143272 ,\n",
       "         126.88286544, 127.87028074, 125.4017425 , 126.88286544,\n",
       "         127.37657309, 126.14230397, 125.15488867, 127.12971926,\n",
       "         252.28460794],\n",
       "        [  0.        , 114.29332043, 117.99612778, 118.73668925,\n",
       "         122.68635044, 125.15488867, 126.88286544, 122.93320426,\n",
       "         126.14230397, 119.72410455, 127.12971926, 123.92061955,\n",
       "         128.85769603, 126.88286544, 127.87028074, 124.4143272 ,\n",
       "         255.        ],\n",
       "        [  0.        , 111.08422072, 122.43949661, 121.20522749,\n",
       "         116.76185866, 125.4017425 , 125.4017425 , 126.88286544,\n",
       "         125.64859632, 123.67376573, 125.64859632, 122.43949661,\n",
       "         129.10454985, 130.83252662, 133.30106486, 126.14230397,\n",
       "         252.53146176],\n",
       "        [  0.        , 117.25556631, 122.68635044, 125.89545015,\n",
       "         123.42691191, 129.35140368, 122.19264279, 125.64859632,\n",
       "         126.38915779, 128.11713456, 125.15488867, 130.09196515,\n",
       "         126.14230397, 126.38915779, 127.62342691, 128.36398838,\n",
       "         245.86640852],\n",
       "        [  0.        ,  82.44917715,  82.44917715,  83.43659245,\n",
       "          81.21490803,  85.65827686,  82.9428848 ,  82.44917715,\n",
       "          84.17715392,  83.68344627,  83.43659245,  83.18973863,\n",
       "          83.43659245,  83.9303001 ,  82.9428848 ,  83.9303001 ,\n",
       "         161.93610842]]),\n",
       " array([[  4.56679574,  26.84535334,  29.99273959,  32.52299129,\n",
       "          53.01185866,  53.44385286,  57.39351404,  57.08494676],\n",
       "        [  4.01137464,  18.39060987,  38.20062924,  51.16045499,\n",
       "          41.4714424 ,  93.00217812, 119.66239109, 123.05663117],\n",
       "        [  6.60333979,  24.74709584,  47.76621491,  61.96030978,\n",
       "          76.2161181 ,  91.95304937, 124.90803485, 123.73547919],\n",
       "        [ 39.00290416,  64.12028074,  54.18441433,  51.90101646,\n",
       "          45.42110358,  95.77928364, 125.52516941, 125.03146176],\n",
       "        [ 59.24491772, 101.14835431, 110.03509197,  39.18804453,\n",
       "          72.88359148, 108.18368829, 125.15488867, 125.9571636 ],\n",
       "        [ 56.28267183, 109.60309777,  90.71878025,  46.28509197,\n",
       "          69.61277832, 115.40416263, 125.83373669, 125.83373669],\n",
       "        [ 58.50435624, 108.12197483, 115.09559535,  43.75484027,\n",
       "          47.95135528, 117.50242014, 127.31485963, 128.11713456],\n",
       "        [ 57.70208132,  70.16819942,  70.22991288,  37.95377541,\n",
       "          57.51694095, 117.87270087, 126.14230397, 128.85769603]]))"
      ]
     },
     "execution_count": 699,
     "metadata": {},
     "output_type": "execute_result"
    }
   ],
   "source": [
    "pooling(a5,'mean',2,2)"
   ]
  },
  {
   "cell_type": "code",
   "execution_count": 700,
   "id": "78e119fb",
   "metadata": {},
   "outputs": [
    {
     "name": "stdout",
     "output_type": "stream",
     "text": [
      "17 17 (8, 8)\n"
     ]
    },
    {
     "data": {
      "text/plain": [
       "(array([[  0.        ,   2.96224589,   2.71539206,   0.        ,\n",
       "           3.45595353,   1.97483059,   0.        ,  37.76863504,\n",
       "          28.14133591,  25.9196515 ,  33.81897386,  21.22942885,\n",
       "          25.42594385,  22.71055179,  36.53436592,  34.55953533,\n",
       "          53.07357212],\n",
       "        [  0.        ,  15.30493708,   7.15876089,   6.1713456 ,\n",
       "          10.86156825,  10.12100678,   0.        , 118.24298161,\n",
       "          74.30300097, 108.61568248,  87.13939981,  82.9428848 ,\n",
       "         102.44433688,  83.43659245,  91.58276864,  68.13165537,\n",
       "         114.78702807],\n",
       "        [  0.        ,  44.43368829,   8.88673766,  16.78606002,\n",
       "          20.48886738,  24.43852856,   0.        , 127.37657309,\n",
       "          72.32817038, 118.98354308, 104.91287512, 101.95062924,\n",
       "         120.71151985, 100.96321394,  89.85479187,  46.16166505,\n",
       "          93.80445305],\n",
       "        [  0.        ,  62.94772507,  17.77347531,  30.11616651,\n",
       "          39.99031946,  14.07066796,   0.        , 129.10454985,\n",
       "          87.38625363, 125.89545015, 118.98354308, 112.56534366,\n",
       "         106.64085189, 104.17231365,  87.63310745,  57.0232333 ,\n",
       "         137.00387222],\n",
       "        [  0.        ,  58.50435624,  28.38818974,  44.68054211,\n",
       "          75.78412391,   0.        ,   0.        ,  95.03872217,\n",
       "         121.69893514, 114.29332043, 125.4017425 ,  86.64569216,\n",
       "         114.0464666 , 110.59051307,  82.69603098,  52.08615682,\n",
       "         142.92836399],\n",
       "        [  0.        ,  61.46660213,  35.05324298,  44.68054211,\n",
       "          85.16456922,  30.11616651,  23.45111326,  98.24782188,\n",
       "         165.39206196,  38.75605034, 100.71636012,  50.11132623,\n",
       "         144.90319458,  90.84220716,  87.38625363,  58.75121007,\n",
       "         116.51500484],\n",
       "        [  0.        ,  61.71345595,  42.70571152,  51.59244918,\n",
       "          61.71345595,  80.96805421,  75.53727009,  39.99031946,\n",
       "          49.61761859,  20.98257502,  44.43368829,  46.6553727 ,\n",
       "          47.642788  ,  47.14908035,  39.24975799,  48.63020329,\n",
       "         112.56534366],\n",
       "        [  0.        ,  68.3785092 ,  52.08615682,  58.25750242,\n",
       "          63.44143272,  41.71829622,  60.97289448,  31.1035818 ,\n",
       "          40.73088093,  45.42110358,  44.92739593,  49.12391094,\n",
       "          49.61761859,  30.60987415,  10.12100678,  53.81413359,\n",
       "          85.16456922],\n",
       "        [  0.        , 104.17231365,  51.839303  ,  40.23717328,\n",
       "         141.69409487,  28.63504356,  92.57018393,   4.196515  ,\n",
       "          96.76669894,  95.03872217,  89.85479187,  87.63310745,\n",
       "          96.51984511,   0.        ,  19.74830591,  64.42884802,\n",
       "          71.09390126],\n",
       "        [  0.        , 107.87512101,  73.80929332,   0.        ,\n",
       "          64.42884802,  70.10648596,  69.36592449,  15.5517909 ,\n",
       "          51.34559535,  48.38334947,  48.13649564,  52.8267183 ,\n",
       "          60.72604066,  34.55953533,  62.94772507,  82.9428848 ,\n",
       "         155.02420136],\n",
       "        [  0.        ,  97.26040658,  82.44917715,  56.52952565,\n",
       "          61.96030978,  68.3785092 ,  57.76379477,  79.24007744,\n",
       "          88.37366893,  93.3107454 , 102.19748306, 111.08422072,\n",
       "         108.8625363 , 110.83736689, 116.76185866, 109.35624395,\n",
       "         232.53630203],\n",
       "        [  0.        , 116.51500484, 117.99612778, 115.0338819 ,\n",
       "         117.25556631, 120.2178122 , 120.46466602, 125.64859632,\n",
       "         126.88286544, 124.16747338, 125.64859632, 122.68635044,\n",
       "         124.90803485, 125.4017425 , 122.19264279, 123.18005808,\n",
       "         249.56921588],\n",
       "        [  0.        , 115.28073572, 120.2178122 , 121.69893514,\n",
       "         124.90803485, 126.88286544, 127.87028074, 124.4143272 ,\n",
       "         126.88286544, 127.87028074, 125.4017425 , 126.88286544,\n",
       "         127.37657309, 126.14230397, 125.15488867, 127.12971926,\n",
       "         252.28460794],\n",
       "        [  0.        , 114.29332043, 117.99612778, 118.73668925,\n",
       "         122.68635044, 125.15488867, 126.88286544, 122.93320426,\n",
       "         126.14230397, 119.72410455, 127.12971926, 123.92061955,\n",
       "         128.85769603, 126.88286544, 127.87028074, 124.4143272 ,\n",
       "         255.        ],\n",
       "        [  0.        , 111.08422072, 122.43949661, 121.20522749,\n",
       "         116.76185866, 125.4017425 , 125.4017425 , 126.88286544,\n",
       "         125.64859632, 123.67376573, 125.64859632, 122.43949661,\n",
       "         129.10454985, 130.83252662, 133.30106486, 126.14230397,\n",
       "         252.53146176],\n",
       "        [  0.        , 117.25556631, 122.68635044, 125.89545015,\n",
       "         123.42691191, 129.35140368, 122.19264279, 125.64859632,\n",
       "         126.38915779, 128.11713456, 125.15488867, 130.09196515,\n",
       "         126.14230397, 126.38915779, 127.62342691, 128.36398838,\n",
       "         245.86640852],\n",
       "        [  0.        ,  82.44917715,  82.44917715,  83.43659245,\n",
       "          81.21490803,  85.65827686,  82.9428848 ,  82.44917715,\n",
       "          84.17715392,  83.68344627,  83.43659245,  83.18973863,\n",
       "          83.43659245,  83.9303001 ,  82.9428848 ,  83.9303001 ,\n",
       "         161.93610842]]),\n",
       " array([[  0.        ,   0.        ,   0.        ,   0.        ,\n",
       "           0.        ,   0.        ,   0.        ,   0.        ],\n",
       "        [  0.        ,   8.88673766,  28.38818974,  42.70571152,\n",
       "           0.        ,  56.52952565, 117.99612778, 121.20522749],\n",
       "        [  1.97483059,  14.07066796,   0.        ,  41.71829622,\n",
       "          28.63504356,  61.96030978, 122.68635044, 116.76185866],\n",
       "        [  0.        ,   0.        ,   0.        ,  31.1035818 ,\n",
       "           4.196515  ,  57.76379477, 122.93320426, 122.19264279],\n",
       "        [ 25.9196515 ,  72.32817038,  38.75605034,  20.98257502,\n",
       "          48.38334947,  88.37366893, 119.72410455, 123.67376573],\n",
       "        [ 21.22942885, 101.95062924,  50.11132623,  44.43368829,\n",
       "          48.13649564, 102.19748306, 123.92061955, 122.43949661],\n",
       "        [ 22.71055179, 100.96321394,  90.84220716,  30.60987415,\n",
       "           0.        , 108.8625363 , 126.14230397, 126.14230397],\n",
       "        [ 34.55953533,  46.16166505,  52.08615682,  10.12100678,\n",
       "          19.74830591, 109.35624395, 124.4143272 , 126.14230397]]))"
      ]
     },
     "execution_count": 700,
     "metadata": {},
     "output_type": "execute_result"
    }
   ],
   "source": [
    "pooling(a5,'min',2,2)"
   ]
  },
  {
   "cell_type": "markdown",
   "id": "c8829209",
   "metadata": {},
   "source": [
    "3. Convolution layer function:"
   ]
  },
  {
   "cell_type": "raw",
   "id": "9f2716b5",
   "metadata": {},
   "source": [
    "Filter kernels"
   ]
  },
  {
   "cell_type": "code",
   "execution_count": 701,
   "id": "e3ee543c",
   "metadata": {},
   "outputs": [
    {
     "data": {
      "text/plain": [
       "(3, 3, 3, 2)"
      ]
     },
     "execution_count": 701,
     "metadata": {},
     "output_type": "execute_result"
    }
   ],
   "source": [
    "import numpy as np\n",
    "kernel3=np.array([[[[0,-1,0],\n",
    "                  [-1,5,-1],\n",
    "                  [0,-1,0]],\n",
    "                 \n",
    "                 [[0,-1,0],\n",
    "                  [-1,5,-1],\n",
    "                  [0,-1,0]],\n",
    "                 \n",
    "                  [[0,-1,0],\n",
    "                  [-1,5,-1],\n",
    "                  [0,-1,0]]],\n",
    "                  [[[0,-1,0],\n",
    "                  [-1,5,-1],\n",
    "                  [0,-1,0]],\n",
    "                 \n",
    "                 [[0,-1,0],\n",
    "                  [-1,5,-1],\n",
    "                  [0,-1,0]],\n",
    "                 \n",
    "                  [[0,-1,0],\n",
    "                  [-1,5,-1],\n",
    "                  [0,-1,0]]]])\n",
    "kernel3=np.transpose(kernel3)\n",
    "kernel3.shape"
   ]
  },
  {
   "cell_type": "code",
   "execution_count": 702,
   "id": "c4299e2a",
   "metadata": {},
   "outputs": [],
   "source": [
    "def convolutionlayer(pic,kernel,stride,pad_width,nonfun):\n",
    "    s_hgt = pic.shape[0]\n",
    "    s_wth = pic.shape[1]\n",
    "    s_dth = pic.shape[2]\n",
    "    m=round((s_hgt-kernel.shape[0]+2*pad_width)/stride)+1\n",
    "    n=round((s_wth-kernel.shape[1]+2*pad_width)/stride)+1\n",
    "    ar = np.zeros((m,n,s_dth))\n",
    "    e=kernel.shape[3]\n",
    "    fsum=np.zeros((m,n,kernel.shape[3]))\n",
    "    kernel=kernel[:,:,:,1]\n",
    "    for k in range(e):\n",
    "        for x in range(s_dth): \n",
    "                pic_ = pic[:,:,x]\n",
    "                kernel1 = kernel[:,:,x]  #flipping kernel as either of kernel or image should be flipped                                                \n",
    "                kernel1 = np.flip(kernel1)\n",
    "                kernel1h, kernel1w = kernel1.shape[0],kernel1.shape[1]\n",
    "                #padding\n",
    "                pic_pad =pad(pic_, kernel1h - 1)\n",
    "                m=round((s_hgt-kernel.shape[0]+2*pad_width)/stride)+1\n",
    "                n=round((s_wth-kernel.shape[1]+2*pad_width)/stride)+1\n",
    "                convl_pic = np.zeros((m,n))\n",
    "        for i in range(0,m):\n",
    "            for j  in range(0,n):\n",
    "                sub_array = pic_pad[i*stride :i*stride + kernel1h , j*stride:j*stride + kernel1w]\n",
    "                convl_pic[i,j] = np.sum(sub_array * kernel1[:,:])\n",
    "            ar[:,:,x] = ar[:,:,x] + convl_pic\n",
    "        sum = np.zeros((s_hgt, s_wth));\n",
    "        sum = ar[:,:,0]+ar[:,:,1]+ar[:,:,2]\n",
    "        sum1=activ(nonfun,sum,0.2)\n",
    "        sum1=sum1.reshape((m,n,1))\n",
    "        fsum[:,:,k]=sum1[:,:,0]\n",
    "    return fsum"
   ]
  },
  {
   "cell_type": "code",
   "execution_count": 703,
   "id": "92a9727b",
   "metadata": {},
   "outputs": [
    {
     "data": {
      "text/plain": [
       "<matplotlib.image.AxesImage at 0x2444a650e20>"
      ]
     },
     "execution_count": 703,
     "metadata": {},
     "output_type": "execute_result"
    },
    {
     "data": {
      "image/png": "[encoded data removed]",
      "text/plain": [
       "<Figure size 576x432 with 1 Axes>"
      ]
     },
     "metadata": {
      "needs_background": "light"
     },
     "output_type": "display_data"
    }
   ],
   "source": [
    "plt.imshow(image1)\n",
    "#Input IMAGE"
   ]
  },
  {
   "cell_type": "code",
   "execution_count": 704,
   "id": "011d4d4e",
   "metadata": {},
   "outputs": [
    {
     "data": {
      "text/plain": [
       "array([[[   0.,    0.],\n",
       "        [   0.,    0.],\n",
       "        [   0.,    0.],\n",
       "        [   0.,    0.],\n",
       "        [   0.,    0.],\n",
       "        [   0.,    0.],\n",
       "        [   0.,    0.],\n",
       "        [   0.,    0.],\n",
       "        [   0.,    0.],\n",
       "        [   0.,    0.],\n",
       "        [   0.,    0.],\n",
       "        [   0.,    0.],\n",
       "        [   0.,    0.],\n",
       "        [   0.,    0.],\n",
       "        [   0.,    0.],\n",
       "        [   0.,    0.],\n",
       "        [   0.,    0.]],\n",
       "\n",
       "       [[   0.,    0.],\n",
       "        [   0.,    0.],\n",
       "        [ 112.,  224.],\n",
       "        [ 192.,  384.],\n",
       "        [ 128.,  256.],\n",
       "        [ 144.,  288.],\n",
       "        [   0.,    0.],\n",
       "        [2704., 5408.],\n",
       "        [2288., 4576.],\n",
       "        [2784., 5568.],\n",
       "        [1392., 2784.],\n",
       "        [2128., 4256.],\n",
       "        [2544., 5088.],\n",
       "        [1936., 3872.],\n",
       "        [1456., 2912.],\n",
       "        [1648., 3296.],\n",
       "        [2480., 4960.]],\n",
       "\n",
       "       [[   0.,    0.],\n",
       "        [ 765., 1530.],\n",
       "        [   0.,    0.],\n",
       "        [ 375.,  750.],\n",
       "        [ 225.,  450.],\n",
       "        [ 390.,  780.],\n",
       "        [   0.,    0.],\n",
       "        [2490., 4980.],\n",
       "        [ 765., 1530.],\n",
       "        [2520., 5040.],\n",
       "        [2265., 4530.],\n",
       "        [2340., 4680.],\n",
       "        [2535., 5070.],\n",
       "        [1800., 3600.],\n",
       "        [1890., 3780.],\n",
       "        [1605., 3210.],\n",
       "        [2835., 5670.]],\n",
       "\n",
       "       [[   0.,    0.],\n",
       "        [1176., 2352.],\n",
       "        [ 154.,  308.],\n",
       "        [ 546., 1092.],\n",
       "        [ 966., 1932.],\n",
       "        [   0.,    0.],\n",
       "        [   0.,    0.],\n",
       "        [2450., 4900.],\n",
       "        [2646., 5292.],\n",
       "        [1414., 2828.],\n",
       "        [2590., 5180.],\n",
       "        [1484., 2968.],\n",
       "        [1960., 3920.],\n",
       "        [2730., 5460.],\n",
       "        [1414., 2828.],\n",
       "        [ 938., 1876.],\n",
       "        [2520., 5040.]],\n",
       "\n",
       "       [[   0.,    0.],\n",
       "        [1092., 2184.],\n",
       "        [ 416.,  832.],\n",
       "        [ 585., 1170.],\n",
       "        [1365., 2730.],\n",
       "        [  13.,   26.],\n",
       "        [ 780., 1560.],\n",
       "        [   0.,    0.],\n",
       "        [1378., 2756.],\n",
       "        [1885., 3770.],\n",
       "        [1976., 3952.],\n",
       "        [2613., 5226.],\n",
       "        [1469., 2938.],\n",
       "        [2158., 4316.],\n",
       "        [1313., 2626.],\n",
       "        [1300., 2600.],\n",
       "        [2691., 5382.]],\n",
       "\n",
       "       [[   0.,    0.],\n",
       "        [ 804., 1608.],\n",
       "        [ 396.,  792.],\n",
       "        [ 492.,  984.],\n",
       "        [ 744., 1488.],\n",
       "        [ 108.,  216.],\n",
       "        [ 660., 1320.],\n",
       "        [2496., 4992.],\n",
       "        [3684., 7368.],\n",
       "        [ 288.,  576.],\n",
       "        [1236., 2472.],\n",
       "        [1248., 2496.],\n",
       "        [3876., 7752.],\n",
       "        [1092., 2184.],\n",
       "        [1812., 3624.],\n",
       "        [ 648., 1296.],\n",
       "        [2640., 5280.]],\n",
       "\n",
       "       [[   0.,    0.],\n",
       "        [ 847., 1694.],\n",
       "        [ 979., 1958.],\n",
       "        [1738., 3476.],\n",
       "        [2090., 4180.],\n",
       "        [1375., 2750.],\n",
       "        [1518., 3036.],\n",
       "        [1782., 3564.],\n",
       "        [1210., 2420.],\n",
       "        [1804., 3608.],\n",
       "        [1562., 3124.],\n",
       "        [1496., 2992.],\n",
       "        [1628., 3256.],\n",
       "        [1111., 2222.],\n",
       "        [ 616., 1232.],\n",
       "        [1441., 2882.],\n",
       "        [ 220.,  440.]],\n",
       "\n",
       "       [[   0.,    0.],\n",
       "        [1510., 3020.],\n",
       "        [ 760., 1520.],\n",
       "        [1130., 2260.],\n",
       "        [   0.,    0.],\n",
       "        [ 370.,  740.],\n",
       "        [   0.,    0.],\n",
       "        [ 920., 1840.],\n",
       "        [  40.,   80.],\n",
       "        [  20.,   40.],\n",
       "        [  90.,  180.],\n",
       "        [   0.,    0.],\n",
       "        [   0.,    0.],\n",
       "        [1050., 2100.],\n",
       "        [   0.,    0.],\n",
       "        [ 880., 1760.],\n",
       "        [  80.,  160.]],\n",
       "\n",
       "       [[   0.,    0.],\n",
       "        [ 999., 1998.],\n",
       "        [ 972., 1944.],\n",
       "        [1350., 2700.],\n",
       "        [3771., 7542.],\n",
       "        [ 855., 1710.],\n",
       "        [1494., 2988.],\n",
       "        [   0.,    0.],\n",
       "        [2070., 4140.],\n",
       "        [2052., 4104.],\n",
       "        [2124., 4248.],\n",
       "        [2232., 4464.],\n",
       "        [2394., 4788.],\n",
       "        [   0.,    0.],\n",
       "        [ 837., 1674.],\n",
       "        [   0.,    0.],\n",
       "        [   0.,    0.]],\n",
       "\n",
       "       [[   0.,    0.],\n",
       "        [1488., 2976.],\n",
       "        [2136., 4272.],\n",
       "        [   0.,    0.],\n",
       "        [ 304.,  608.],\n",
       "        [1664., 3328.],\n",
       "        [1872., 3744.],\n",
       "        [  32.,   64.],\n",
       "        [   0.,    0.],\n",
       "        [   0.,    0.],\n",
       "        [   0.,    0.],\n",
       "        [   0.,    0.],\n",
       "        [   0.,    0.],\n",
       "        [   0.,    0.],\n",
       "        [ 400.,  800.],\n",
       "        [ 896., 1792.],\n",
       "        [2272., 4544.]],\n",
       "\n",
       "       [[   0.,    0.],\n",
       "        [ 644., 1288.],\n",
       "        [ 357.,  714.],\n",
       "        [ 511., 1022.],\n",
       "        [ 357.,  714.],\n",
       "        [   0.,    0.],\n",
       "        [  77.,  154.],\n",
       "        [1190., 2380.],\n",
       "        [1372., 2744.],\n",
       "        [1533., 3066.],\n",
       "        [1428., 2856.],\n",
       "        [1407., 2814.],\n",
       "        [1148., 2296.],\n",
       "        [1372., 2744.],\n",
       "        [1127., 2254.],\n",
       "        [1134., 2268.],\n",
       "        [2177., 4354.]],\n",
       "\n",
       "       [[   0.,    0.],\n",
       "        [1122., 2244.],\n",
       "        [1104., 2208.],\n",
       "        [1104., 2208.],\n",
       "        [1056., 2112.],\n",
       "        [1026., 2052.],\n",
       "        [1002., 2004.],\n",
       "        [1026., 2052.],\n",
       "        [1086., 2172.],\n",
       "        [ 978., 1956.],\n",
       "        [1020., 2040.],\n",
       "        [ 948., 1896.],\n",
       "        [1062., 2124.],\n",
       "        [1038., 2076.],\n",
       "        [ 942., 1884.],\n",
       "        [ 978., 1956.],\n",
       "        [2070., 4140.]],\n",
       "\n",
       "       [[   0.,    0.],\n",
       "        [ 795., 1590.],\n",
       "        [ 825., 1650.],\n",
       "        [ 825., 1650.],\n",
       "        [ 810., 1620.],\n",
       "        [ 860., 1720.],\n",
       "        [ 895., 1790.],\n",
       "        [ 810., 1620.],\n",
       "        [ 855., 1710.],\n",
       "        [ 900., 1800.],\n",
       "        [ 800., 1600.],\n",
       "        [ 895., 1790.],\n",
       "        [ 850., 1700.],\n",
       "        [ 810., 1620.],\n",
       "        [ 860., 1720.],\n",
       "        [ 880., 1760.],\n",
       "        [1680., 3360.]],\n",
       "\n",
       "       [[   0.,    0.],\n",
       "        [ 676., 1352.],\n",
       "        [ 652., 1304.],\n",
       "        [ 664., 1328.],\n",
       "        [ 664., 1328.],\n",
       "        [ 680., 1360.],\n",
       "        [ 600., 1200.],\n",
       "        [ 664., 1328.],\n",
       "        [ 648., 1296.],\n",
       "        [ 608., 1216.],\n",
       "        [ 700., 1400.],\n",
       "        [ 652., 1304.],\n",
       "        [ 684., 1368.],\n",
       "        [ 676., 1352.],\n",
       "        [ 684., 1368.],\n",
       "        [ 620., 1240.],\n",
       "        [1408., 2816.]],\n",
       "\n",
       "       [[   0.,    0.],\n",
       "        [ 309.,  618.],\n",
       "        [ 447.,  894.],\n",
       "        [ 447.,  894.],\n",
       "        [ 414.,  828.],\n",
       "        [ 489.,  978.],\n",
       "        [ 507., 1014.],\n",
       "        [ 495.,  990.],\n",
       "        [ 519., 1038.],\n",
       "        [ 495.,  990.],\n",
       "        [ 516., 1032.],\n",
       "        [ 453.,  906.],\n",
       "        [ 519., 1038.],\n",
       "        [ 525., 1050.],\n",
       "        [ 537., 1074.],\n",
       "        [ 504., 1008.],\n",
       "        [1023., 2046.]],\n",
       "\n",
       "       [[   0.,    0.],\n",
       "        [ 326.,  652.],\n",
       "        [ 352.,  704.],\n",
       "        [ 386.,  772.],\n",
       "        [ 368.,  736.],\n",
       "        [ 354.,  708.],\n",
       "        [ 314.,  628.],\n",
       "        [ 306.,  612.],\n",
       "        [ 334.,  668.],\n",
       "        [ 364.,  728.],\n",
       "        [ 342.,  684.],\n",
       "        [ 384.,  768.],\n",
       "        [ 334.,  668.],\n",
       "        [ 320.,  640.],\n",
       "        [ 324.,  648.],\n",
       "        [ 352.,  704.],\n",
       "        [ 662., 1324.]],\n",
       "\n",
       "       [[   0.,    0.],\n",
       "        [ 363.,  726.],\n",
       "        [ 352.,  704.],\n",
       "        [ 350.,  700.],\n",
       "        [ 348.,  696.],\n",
       "        [ 364.,  728.],\n",
       "        [ 346.,  692.],\n",
       "        [ 350.,  700.],\n",
       "        [ 358.,  716.],\n",
       "        [ 360.,  720.],\n",
       "        [ 347.,  694.],\n",
       "        [ 345.,  690.],\n",
       "        [ 356.,  712.],\n",
       "        [ 357.,  714.],\n",
       "        [ 346.,  692.],\n",
       "        [ 338.,  676.],\n",
       "        [ 506., 1012.]]])"
      ]
     },
     "execution_count": 704,
     "metadata": {},
     "output_type": "execute_result"
    }
   ],
   "source": [
    "convolutionlayer(image1,kernel3,2,2,'RELU') #Output activation map"
   ]
  },
  {
   "cell_type": "code",
   "execution_count": 705,
   "id": "c28b1eb1",
   "metadata": {},
   "outputs": [],
   "source": [
    "s=convolutionlayer(image1,kernel3,2,2,'RELU')"
   ]
  },
  {
   "cell_type": "code",
   "execution_count": 706,
   "id": "d4de27fa",
   "metadata": {},
   "outputs": [
    {
     "data": {
      "text/plain": [
       "(17, 17, 2)"
      ]
     },
     "execution_count": 706,
     "metadata": {},
     "output_type": "execute_result"
    }
   ],
   "source": [
    "s.shape"
   ]
  },
  {
   "cell_type": "markdown",
   "id": "764f13e6",
   "metadata": {},
   "source": [
    "4. Pooling layer function:"
   ]
  },
  {
   "cell_type": "raw",
   "id": "e6aee898",
   "metadata": {},
   "source": [
    "MAX POOLING"
   ]
  },
  {
   "cell_type": "code",
   "execution_count": 707,
   "id": "d9f322c7",
   "metadata": {},
   "outputs": [],
   "source": [
    "def poolinglayer(activation_map,pooling_type,pooling,stride):\n",
    "    (l,h,b)=activation_map.shape\n",
    "    amap1=np.zeros((((round((l-pooling)//stride)+1),(round((l-pooling)//stride)+1),b)))\n",
    "    for o in range(amap1.shape[2]):\n",
    "        n=0\n",
    "        for i in range(0,h-1,stride):\n",
    "            m=0\n",
    "            for j in range(0,l-1,stride):\n",
    "                if (pooling_type=='max'):\n",
    "                    amap1[n,m]=np.max(activation_map[j:j+pooling,i:i+pooling])\n",
    "                if (pooling_type=='mean'):\n",
    "                    amap1[n,m]=np.mean(activation_map[j:j+pooling,i:i+pooling])\n",
    "                if (pooling_type=='min'):\n",
    "                    amap1[n,m]=np.min(activation_map[j:j+pooling,i:i+pooling])\n",
    "                m=m+1\n",
    "            n=n+1\n",
    "    return activation_map"
   ]
  },
  {
   "cell_type": "code",
   "execution_count": null,
   "id": "7d57a88e",
   "metadata": {},
   "outputs": [],
   "source": []
  },
  {
   "cell_type": "code",
   "execution_count": 708,
   "id": "32603822",
   "metadata": {},
   "outputs": [
    {
     "data": {
      "text/plain": [
       "array([[[   0.,    0.],\n",
       "        [   0.,    0.],\n",
       "        [   0.,    0.],\n",
       "        [   0.,    0.],\n",
       "        [   0.,    0.],\n",
       "        [   0.,    0.],\n",
       "        [   0.,    0.],\n",
       "        [   0.,    0.],\n",
       "        [   0.,    0.],\n",
       "        [   0.,    0.],\n",
       "        [   0.,    0.],\n",
       "        [   0.,    0.],\n",
       "        [   0.,    0.],\n",
       "        [   0.,    0.],\n",
       "        [   0.,    0.],\n",
       "        [   0.,    0.],\n",
       "        [   0.,    0.]],\n",
       "\n",
       "       [[   0.,    0.],\n",
       "        [   0.,    0.],\n",
       "        [ 112.,  224.],\n",
       "        [ 192.,  384.],\n",
       "        [ 128.,  256.],\n",
       "        [ 144.,  288.],\n",
       "        [   0.,    0.],\n",
       "        [2704., 5408.],\n",
       "        [2288., 4576.],\n",
       "        [2784., 5568.],\n",
       "        [1392., 2784.],\n",
       "        [2128., 4256.],\n",
       "        [2544., 5088.],\n",
       "        [1936., 3872.],\n",
       "        [1456., 2912.],\n",
       "        [1648., 3296.],\n",
       "        [2480., 4960.]],\n",
       "\n",
       "       [[   0.,    0.],\n",
       "        [ 765., 1530.],\n",
       "        [   0.,    0.],\n",
       "        [ 375.,  750.],\n",
       "        [ 225.,  450.],\n",
       "        [ 390.,  780.],\n",
       "        [   0.,    0.],\n",
       "        [2490., 4980.],\n",
       "        [ 765., 1530.],\n",
       "        [2520., 5040.],\n",
       "        [2265., 4530.],\n",
       "        [2340., 4680.],\n",
       "        [2535., 5070.],\n",
       "        [1800., 3600.],\n",
       "        [1890., 3780.],\n",
       "        [1605., 3210.],\n",
       "        [2835., 5670.]],\n",
       "\n",
       "       [[   0.,    0.],\n",
       "        [1176., 2352.],\n",
       "        [ 154.,  308.],\n",
       "        [ 546., 1092.],\n",
       "        [ 966., 1932.],\n",
       "        [   0.,    0.],\n",
       "        [   0.,    0.],\n",
       "        [2450., 4900.],\n",
       "        [2646., 5292.],\n",
       "        [1414., 2828.],\n",
       "        [2590., 5180.],\n",
       "        [1484., 2968.],\n",
       "        [1960., 3920.],\n",
       "        [2730., 5460.],\n",
       "        [1414., 2828.],\n",
       "        [ 938., 1876.],\n",
       "        [2520., 5040.]],\n",
       "\n",
       "       [[   0.,    0.],\n",
       "        [1092., 2184.],\n",
       "        [ 416.,  832.],\n",
       "        [ 585., 1170.],\n",
       "        [1365., 2730.],\n",
       "        [  13.,   26.],\n",
       "        [ 780., 1560.],\n",
       "        [   0.,    0.],\n",
       "        [1378., 2756.],\n",
       "        [1885., 3770.],\n",
       "        [1976., 3952.],\n",
       "        [2613., 5226.],\n",
       "        [1469., 2938.],\n",
       "        [2158., 4316.],\n",
       "        [1313., 2626.],\n",
       "        [1300., 2600.],\n",
       "        [2691., 5382.]],\n",
       "\n",
       "       [[   0.,    0.],\n",
       "        [ 804., 1608.],\n",
       "        [ 396.,  792.],\n",
       "        [ 492.,  984.],\n",
       "        [ 744., 1488.],\n",
       "        [ 108.,  216.],\n",
       "        [ 660., 1320.],\n",
       "        [2496., 4992.],\n",
       "        [3684., 7368.],\n",
       "        [ 288.,  576.],\n",
       "        [1236., 2472.],\n",
       "        [1248., 2496.],\n",
       "        [3876., 7752.],\n",
       "        [1092., 2184.],\n",
       "        [1812., 3624.],\n",
       "        [ 648., 1296.],\n",
       "        [2640., 5280.]],\n",
       "\n",
       "       [[   0.,    0.],\n",
       "        [ 847., 1694.],\n",
       "        [ 979., 1958.],\n",
       "        [1738., 3476.],\n",
       "        [2090., 4180.],\n",
       "        [1375., 2750.],\n",
       "        [1518., 3036.],\n",
       "        [1782., 3564.],\n",
       "        [1210., 2420.],\n",
       "        [1804., 3608.],\n",
       "        [1562., 3124.],\n",
       "        [1496., 2992.],\n",
       "        [1628., 3256.],\n",
       "        [1111., 2222.],\n",
       "        [ 616., 1232.],\n",
       "        [1441., 2882.],\n",
       "        [ 220.,  440.]],\n",
       "\n",
       "       [[   0.,    0.],\n",
       "        [1510., 3020.],\n",
       "        [ 760., 1520.],\n",
       "        [1130., 2260.],\n",
       "        [   0.,    0.],\n",
       "        [ 370.,  740.],\n",
       "        [   0.,    0.],\n",
       "        [ 920., 1840.],\n",
       "        [  40.,   80.],\n",
       "        [  20.,   40.],\n",
       "        [  90.,  180.],\n",
       "        [   0.,    0.],\n",
       "        [   0.,    0.],\n",
       "        [1050., 2100.],\n",
       "        [   0.,    0.],\n",
       "        [ 880., 1760.],\n",
       "        [  80.,  160.]],\n",
       "\n",
       "       [[   0.,    0.],\n",
       "        [ 999., 1998.],\n",
       "        [ 972., 1944.],\n",
       "        [1350., 2700.],\n",
       "        [3771., 7542.],\n",
       "        [ 855., 1710.],\n",
       "        [1494., 2988.],\n",
       "        [   0.,    0.],\n",
       "        [2070., 4140.],\n",
       "        [2052., 4104.],\n",
       "        [2124., 4248.],\n",
       "        [2232., 4464.],\n",
       "        [2394., 4788.],\n",
       "        [   0.,    0.],\n",
       "        [ 837., 1674.],\n",
       "        [   0.,    0.],\n",
       "        [   0.,    0.]],\n",
       "\n",
       "       [[   0.,    0.],\n",
       "        [1488., 2976.],\n",
       "        [2136., 4272.],\n",
       "        [   0.,    0.],\n",
       "        [ 304.,  608.],\n",
       "        [1664., 3328.],\n",
       "        [1872., 3744.],\n",
       "        [  32.,   64.],\n",
       "        [   0.,    0.],\n",
       "        [   0.,    0.],\n",
       "        [   0.,    0.],\n",
       "        [   0.,    0.],\n",
       "        [   0.,    0.],\n",
       "        [   0.,    0.],\n",
       "        [ 400.,  800.],\n",
       "        [ 896., 1792.],\n",
       "        [2272., 4544.]],\n",
       "\n",
       "       [[   0.,    0.],\n",
       "        [ 644., 1288.],\n",
       "        [ 357.,  714.],\n",
       "        [ 511., 1022.],\n",
       "        [ 357.,  714.],\n",
       "        [   0.,    0.],\n",
       "        [  77.,  154.],\n",
       "        [1190., 2380.],\n",
       "        [1372., 2744.],\n",
       "        [1533., 3066.],\n",
       "        [1428., 2856.],\n",
       "        [1407., 2814.],\n",
       "        [1148., 2296.],\n",
       "        [1372., 2744.],\n",
       "        [1127., 2254.],\n",
       "        [1134., 2268.],\n",
       "        [2177., 4354.]],\n",
       "\n",
       "       [[   0.,    0.],\n",
       "        [1122., 2244.],\n",
       "        [1104., 2208.],\n",
       "        [1104., 2208.],\n",
       "        [1056., 2112.],\n",
       "        [1026., 2052.],\n",
       "        [1002., 2004.],\n",
       "        [1026., 2052.],\n",
       "        [1086., 2172.],\n",
       "        [ 978., 1956.],\n",
       "        [1020., 2040.],\n",
       "        [ 948., 1896.],\n",
       "        [1062., 2124.],\n",
       "        [1038., 2076.],\n",
       "        [ 942., 1884.],\n",
       "        [ 978., 1956.],\n",
       "        [2070., 4140.]],\n",
       "\n",
       "       [[   0.,    0.],\n",
       "        [ 795., 1590.],\n",
       "        [ 825., 1650.],\n",
       "        [ 825., 1650.],\n",
       "        [ 810., 1620.],\n",
       "        [ 860., 1720.],\n",
       "        [ 895., 1790.],\n",
       "        [ 810., 1620.],\n",
       "        [ 855., 1710.],\n",
       "        [ 900., 1800.],\n",
       "        [ 800., 1600.],\n",
       "        [ 895., 1790.],\n",
       "        [ 850., 1700.],\n",
       "        [ 810., 1620.],\n",
       "        [ 860., 1720.],\n",
       "        [ 880., 1760.],\n",
       "        [1680., 3360.]],\n",
       "\n",
       "       [[   0.,    0.],\n",
       "        [ 676., 1352.],\n",
       "        [ 652., 1304.],\n",
       "        [ 664., 1328.],\n",
       "        [ 664., 1328.],\n",
       "        [ 680., 1360.],\n",
       "        [ 600., 1200.],\n",
       "        [ 664., 1328.],\n",
       "        [ 648., 1296.],\n",
       "        [ 608., 1216.],\n",
       "        [ 700., 1400.],\n",
       "        [ 652., 1304.],\n",
       "        [ 684., 1368.],\n",
       "        [ 676., 1352.],\n",
       "        [ 684., 1368.],\n",
       "        [ 620., 1240.],\n",
       "        [1408., 2816.]],\n",
       "\n",
       "       [[   0.,    0.],\n",
       "        [ 309.,  618.],\n",
       "        [ 447.,  894.],\n",
       "        [ 447.,  894.],\n",
       "        [ 414.,  828.],\n",
       "        [ 489.,  978.],\n",
       "        [ 507., 1014.],\n",
       "        [ 495.,  990.],\n",
       "        [ 519., 1038.],\n",
       "        [ 495.,  990.],\n",
       "        [ 516., 1032.],\n",
       "        [ 453.,  906.],\n",
       "        [ 519., 1038.],\n",
       "        [ 525., 1050.],\n",
       "        [ 537., 1074.],\n",
       "        [ 504., 1008.],\n",
       "        [1023., 2046.]],\n",
       "\n",
       "       [[   0.,    0.],\n",
       "        [ 326.,  652.],\n",
       "        [ 352.,  704.],\n",
       "        [ 386.,  772.],\n",
       "        [ 368.,  736.],\n",
       "        [ 354.,  708.],\n",
       "        [ 314.,  628.],\n",
       "        [ 306.,  612.],\n",
       "        [ 334.,  668.],\n",
       "        [ 364.,  728.],\n",
       "        [ 342.,  684.],\n",
       "        [ 384.,  768.],\n",
       "        [ 334.,  668.],\n",
       "        [ 320.,  640.],\n",
       "        [ 324.,  648.],\n",
       "        [ 352.,  704.],\n",
       "        [ 662., 1324.]],\n",
       "\n",
       "       [[   0.,    0.],\n",
       "        [ 363.,  726.],\n",
       "        [ 352.,  704.],\n",
       "        [ 350.,  700.],\n",
       "        [ 348.,  696.],\n",
       "        [ 364.,  728.],\n",
       "        [ 346.,  692.],\n",
       "        [ 350.,  700.],\n",
       "        [ 358.,  716.],\n",
       "        [ 360.,  720.],\n",
       "        [ 347.,  694.],\n",
       "        [ 345.,  690.],\n",
       "        [ 356.,  712.],\n",
       "        [ 357.,  714.],\n",
       "        [ 346.,  692.],\n",
       "        [ 338.,  676.],\n",
       "        [ 506., 1012.]]])"
      ]
     },
     "execution_count": 708,
     "metadata": {},
     "output_type": "execute_result"
    }
   ],
   "source": [
    "poolinglayer(s,'mean',2,2)"
   ]
  },
  {
   "cell_type": "code",
   "execution_count": 709,
   "id": "6e771eca",
   "metadata": {},
   "outputs": [
    {
     "data": {
      "text/plain": [
       "array([[[   0.,    0.],\n",
       "        [   0.,    0.],\n",
       "        [   0.,    0.],\n",
       "        [   0.,    0.],\n",
       "        [   0.,    0.],\n",
       "        [   0.,    0.],\n",
       "        [   0.,    0.],\n",
       "        [   0.,    0.],\n",
       "        [   0.,    0.],\n",
       "        [   0.,    0.],\n",
       "        [   0.,    0.],\n",
       "        [   0.,    0.],\n",
       "        [   0.,    0.],\n",
       "        [   0.,    0.],\n",
       "        [   0.,    0.],\n",
       "        [   0.,    0.],\n",
       "        [   0.,    0.]],\n",
       "\n",
       "       [[   0.,    0.],\n",
       "        [   0.,    0.],\n",
       "        [ 112.,  224.],\n",
       "        [ 192.,  384.],\n",
       "        [ 128.,  256.],\n",
       "        [ 144.,  288.],\n",
       "        [   0.,    0.],\n",
       "        [2704., 5408.],\n",
       "        [2288., 4576.],\n",
       "        [2784., 5568.],\n",
       "        [1392., 2784.],\n",
       "        [2128., 4256.],\n",
       "        [2544., 5088.],\n",
       "        [1936., 3872.],\n",
       "        [1456., 2912.],\n",
       "        [1648., 3296.],\n",
       "        [2480., 4960.]],\n",
       "\n",
       "       [[   0.,    0.],\n",
       "        [ 765., 1530.],\n",
       "        [   0.,    0.],\n",
       "        [ 375.,  750.],\n",
       "        [ 225.,  450.],\n",
       "        [ 390.,  780.],\n",
       "        [   0.,    0.],\n",
       "        [2490., 4980.],\n",
       "        [ 765., 1530.],\n",
       "        [2520., 5040.],\n",
       "        [2265., 4530.],\n",
       "        [2340., 4680.],\n",
       "        [2535., 5070.],\n",
       "        [1800., 3600.],\n",
       "        [1890., 3780.],\n",
       "        [1605., 3210.],\n",
       "        [2835., 5670.]],\n",
       "\n",
       "       [[   0.,    0.],\n",
       "        [1176., 2352.],\n",
       "        [ 154.,  308.],\n",
       "        [ 546., 1092.],\n",
       "        [ 966., 1932.],\n",
       "        [   0.,    0.],\n",
       "        [   0.,    0.],\n",
       "        [2450., 4900.],\n",
       "        [2646., 5292.],\n",
       "        [1414., 2828.],\n",
       "        [2590., 5180.],\n",
       "        [1484., 2968.],\n",
       "        [1960., 3920.],\n",
       "        [2730., 5460.],\n",
       "        [1414., 2828.],\n",
       "        [ 938., 1876.],\n",
       "        [2520., 5040.]],\n",
       "\n",
       "       [[   0.,    0.],\n",
       "        [1092., 2184.],\n",
       "        [ 416.,  832.],\n",
       "        [ 585., 1170.],\n",
       "        [1365., 2730.],\n",
       "        [  13.,   26.],\n",
       "        [ 780., 1560.],\n",
       "        [   0.,    0.],\n",
       "        [1378., 2756.],\n",
       "        [1885., 3770.],\n",
       "        [1976., 3952.],\n",
       "        [2613., 5226.],\n",
       "        [1469., 2938.],\n",
       "        [2158., 4316.],\n",
       "        [1313., 2626.],\n",
       "        [1300., 2600.],\n",
       "        [2691., 5382.]],\n",
       "\n",
       "       [[   0.,    0.],\n",
       "        [ 804., 1608.],\n",
       "        [ 396.,  792.],\n",
       "        [ 492.,  984.],\n",
       "        [ 744., 1488.],\n",
       "        [ 108.,  216.],\n",
       "        [ 660., 1320.],\n",
       "        [2496., 4992.],\n",
       "        [3684., 7368.],\n",
       "        [ 288.,  576.],\n",
       "        [1236., 2472.],\n",
       "        [1248., 2496.],\n",
       "        [3876., 7752.],\n",
       "        [1092., 2184.],\n",
       "        [1812., 3624.],\n",
       "        [ 648., 1296.],\n",
       "        [2640., 5280.]],\n",
       "\n",
       "       [[   0.,    0.],\n",
       "        [ 847., 1694.],\n",
       "        [ 979., 1958.],\n",
       "        [1738., 3476.],\n",
       "        [2090., 4180.],\n",
       "        [1375., 2750.],\n",
       "        [1518., 3036.],\n",
       "        [1782., 3564.],\n",
       "        [1210., 2420.],\n",
       "        [1804., 3608.],\n",
       "        [1562., 3124.],\n",
       "        [1496., 2992.],\n",
       "        [1628., 3256.],\n",
       "        [1111., 2222.],\n",
       "        [ 616., 1232.],\n",
       "        [1441., 2882.],\n",
       "        [ 220.,  440.]],\n",
       "\n",
       "       [[   0.,    0.],\n",
       "        [1510., 3020.],\n",
       "        [ 760., 1520.],\n",
       "        [1130., 2260.],\n",
       "        [   0.,    0.],\n",
       "        [ 370.,  740.],\n",
       "        [   0.,    0.],\n",
       "        [ 920., 1840.],\n",
       "        [  40.,   80.],\n",
       "        [  20.,   40.],\n",
       "        [  90.,  180.],\n",
       "        [   0.,    0.],\n",
       "        [   0.,    0.],\n",
       "        [1050., 2100.],\n",
       "        [   0.,    0.],\n",
       "        [ 880., 1760.],\n",
       "        [  80.,  160.]],\n",
       "\n",
       "       [[   0.,    0.],\n",
       "        [ 999., 1998.],\n",
       "        [ 972., 1944.],\n",
       "        [1350., 2700.],\n",
       "        [3771., 7542.],\n",
       "        [ 855., 1710.],\n",
       "        [1494., 2988.],\n",
       "        [   0.,    0.],\n",
       "        [2070., 4140.],\n",
       "        [2052., 4104.],\n",
       "        [2124., 4248.],\n",
       "        [2232., 4464.],\n",
       "        [2394., 4788.],\n",
       "        [   0.,    0.],\n",
       "        [ 837., 1674.],\n",
       "        [   0.,    0.],\n",
       "        [   0.,    0.]],\n",
       "\n",
       "       [[   0.,    0.],\n",
       "        [1488., 2976.],\n",
       "        [2136., 4272.],\n",
       "        [   0.,    0.],\n",
       "        [ 304.,  608.],\n",
       "        [1664., 3328.],\n",
       "        [1872., 3744.],\n",
       "        [  32.,   64.],\n",
       "        [   0.,    0.],\n",
       "        [   0.,    0.],\n",
       "        [   0.,    0.],\n",
       "        [   0.,    0.],\n",
       "        [   0.,    0.],\n",
       "        [   0.,    0.],\n",
       "        [ 400.,  800.],\n",
       "        [ 896., 1792.],\n",
       "        [2272., 4544.]],\n",
       "\n",
       "       [[   0.,    0.],\n",
       "        [ 644., 1288.],\n",
       "        [ 357.,  714.],\n",
       "        [ 511., 1022.],\n",
       "        [ 357.,  714.],\n",
       "        [   0.,    0.],\n",
       "        [  77.,  154.],\n",
       "        [1190., 2380.],\n",
       "        [1372., 2744.],\n",
       "        [1533., 3066.],\n",
       "        [1428., 2856.],\n",
       "        [1407., 2814.],\n",
       "        [1148., 2296.],\n",
       "        [1372., 2744.],\n",
       "        [1127., 2254.],\n",
       "        [1134., 2268.],\n",
       "        [2177., 4354.]],\n",
       "\n",
       "       [[   0.,    0.],\n",
       "        [1122., 2244.],\n",
       "        [1104., 2208.],\n",
       "        [1104., 2208.],\n",
       "        [1056., 2112.],\n",
       "        [1026., 2052.],\n",
       "        [1002., 2004.],\n",
       "        [1026., 2052.],\n",
       "        [1086., 2172.],\n",
       "        [ 978., 1956.],\n",
       "        [1020., 2040.],\n",
       "        [ 948., 1896.],\n",
       "        [1062., 2124.],\n",
       "        [1038., 2076.],\n",
       "        [ 942., 1884.],\n",
       "        [ 978., 1956.],\n",
       "        [2070., 4140.]],\n",
       "\n",
       "       [[   0.,    0.],\n",
       "        [ 795., 1590.],\n",
       "        [ 825., 1650.],\n",
       "        [ 825., 1650.],\n",
       "        [ 810., 1620.],\n",
       "        [ 860., 1720.],\n",
       "        [ 895., 1790.],\n",
       "        [ 810., 1620.],\n",
       "        [ 855., 1710.],\n",
       "        [ 900., 1800.],\n",
       "        [ 800., 1600.],\n",
       "        [ 895., 1790.],\n",
       "        [ 850., 1700.],\n",
       "        [ 810., 1620.],\n",
       "        [ 860., 1720.],\n",
       "        [ 880., 1760.],\n",
       "        [1680., 3360.]],\n",
       "\n",
       "       [[   0.,    0.],\n",
       "        [ 676., 1352.],\n",
       "        [ 652., 1304.],\n",
       "        [ 664., 1328.],\n",
       "        [ 664., 1328.],\n",
       "        [ 680., 1360.],\n",
       "        [ 600., 1200.],\n",
       "        [ 664., 1328.],\n",
       "        [ 648., 1296.],\n",
       "        [ 608., 1216.],\n",
       "        [ 700., 1400.],\n",
       "        [ 652., 1304.],\n",
       "        [ 684., 1368.],\n",
       "        [ 676., 1352.],\n",
       "        [ 684., 1368.],\n",
       "        [ 620., 1240.],\n",
       "        [1408., 2816.]],\n",
       "\n",
       "       [[   0.,    0.],\n",
       "        [ 309.,  618.],\n",
       "        [ 447.,  894.],\n",
       "        [ 447.,  894.],\n",
       "        [ 414.,  828.],\n",
       "        [ 489.,  978.],\n",
       "        [ 507., 1014.],\n",
       "        [ 495.,  990.],\n",
       "        [ 519., 1038.],\n",
       "        [ 495.,  990.],\n",
       "        [ 516., 1032.],\n",
       "        [ 453.,  906.],\n",
       "        [ 519., 1038.],\n",
       "        [ 525., 1050.],\n",
       "        [ 537., 1074.],\n",
       "        [ 504., 1008.],\n",
       "        [1023., 2046.]],\n",
       "\n",
       "       [[   0.,    0.],\n",
       "        [ 326.,  652.],\n",
       "        [ 352.,  704.],\n",
       "        [ 386.,  772.],\n",
       "        [ 368.,  736.],\n",
       "        [ 354.,  708.],\n",
       "        [ 314.,  628.],\n",
       "        [ 306.,  612.],\n",
       "        [ 334.,  668.],\n",
       "        [ 364.,  728.],\n",
       "        [ 342.,  684.],\n",
       "        [ 384.,  768.],\n",
       "        [ 334.,  668.],\n",
       "        [ 320.,  640.],\n",
       "        [ 324.,  648.],\n",
       "        [ 352.,  704.],\n",
       "        [ 662., 1324.]],\n",
       "\n",
       "       [[   0.,    0.],\n",
       "        [ 363.,  726.],\n",
       "        [ 352.,  704.],\n",
       "        [ 350.,  700.],\n",
       "        [ 348.,  696.],\n",
       "        [ 364.,  728.],\n",
       "        [ 346.,  692.],\n",
       "        [ 350.,  700.],\n",
       "        [ 358.,  716.],\n",
       "        [ 360.,  720.],\n",
       "        [ 347.,  694.],\n",
       "        [ 345.,  690.],\n",
       "        [ 356.,  712.],\n",
       "        [ 357.,  714.],\n",
       "        [ 346.,  692.],\n",
       "        [ 338.,  676.],\n",
       "        [ 506., 1012.]]])"
      ]
     },
     "execution_count": 709,
     "metadata": {},
     "output_type": "execute_result"
    }
   ],
   "source": [
    "poolinglayer(s,'min',2,2)"
   ]
  },
  {
   "cell_type": "code",
   "execution_count": 710,
   "id": "9039c2de",
   "metadata": {},
   "outputs": [],
   "source": [
    "def poolinglayer1(activation_map,pooling_type,pooling,stride):\n",
    "    (l,h,b)=activation_map.shape\n",
    "    amap1=np.zeros((((round((l-pooling)//stride)+1),(round((l-pooling)//stride)+1),b)))\n",
    "    for o in range(amap1.shape[2]):\n",
    "        n=0\n",
    "        for i in range(0,h-1,stride):\n",
    "            m=0\n",
    "            for j in range(0,l-1,stride):\n",
    "                if (pooling_type=='max'):\n",
    "                    amap1[n,m]=np.max(activation_map[j:j+pooling,i:i+pooling])\n",
    "                if (pooling_type=='mean'):\n",
    "                    amap1[n,m]=np.mean(activation_map[j:j+pooling,i:i+pooling])\n",
    "                if (pooling_type=='min'):\n",
    "                    amap1[n,m]=np.min(activation_map[j:j+pooling,i:i+pooling])\n",
    "                m=m+1\n",
    "            n=n+1\n",
    "    return activation_map"
   ]
  },
  {
   "cell_type": "code",
   "execution_count": 711,
   "id": "adefff24",
   "metadata": {},
   "outputs": [],
   "source": [
    "g=poolinglayer1(s,'max',2,2)"
   ]
  },
  {
   "cell_type": "code",
   "execution_count": 712,
   "id": "f10a5941",
   "metadata": {},
   "outputs": [
    {
     "data": {
      "text/plain": [
       "array([[[   0.,    0.],\n",
       "        [   0.,    0.],\n",
       "        [   0.,    0.],\n",
       "        [   0.,    0.],\n",
       "        [   0.,    0.],\n",
       "        [   0.,    0.],\n",
       "        [   0.,    0.],\n",
       "        [   0.,    0.],\n",
       "        [   0.,    0.],\n",
       "        [   0.,    0.],\n",
       "        [   0.,    0.],\n",
       "        [   0.,    0.],\n",
       "        [   0.,    0.],\n",
       "        [   0.,    0.],\n",
       "        [   0.,    0.],\n",
       "        [   0.,    0.],\n",
       "        [   0.,    0.]],\n",
       "\n",
       "       [[   0.,    0.],\n",
       "        [   0.,    0.],\n",
       "        [ 112.,  224.],\n",
       "        [ 192.,  384.],\n",
       "        [ 128.,  256.],\n",
       "        [ 144.,  288.],\n",
       "        [   0.,    0.],\n",
       "        [2704., 5408.],\n",
       "        [2288., 4576.],\n",
       "        [2784., 5568.],\n",
       "        [1392., 2784.],\n",
       "        [2128., 4256.],\n",
       "        [2544., 5088.],\n",
       "        [1936., 3872.],\n",
       "        [1456., 2912.],\n",
       "        [1648., 3296.],\n",
       "        [2480., 4960.]],\n",
       "\n",
       "       [[   0.,    0.],\n",
       "        [ 765., 1530.],\n",
       "        [   0.,    0.],\n",
       "        [ 375.,  750.],\n",
       "        [ 225.,  450.],\n",
       "        [ 390.,  780.],\n",
       "        [   0.,    0.],\n",
       "        [2490., 4980.],\n",
       "        [ 765., 1530.],\n",
       "        [2520., 5040.],\n",
       "        [2265., 4530.],\n",
       "        [2340., 4680.],\n",
       "        [2535., 5070.],\n",
       "        [1800., 3600.],\n",
       "        [1890., 3780.],\n",
       "        [1605., 3210.],\n",
       "        [2835., 5670.]],\n",
       "\n",
       "       [[   0.,    0.],\n",
       "        [1176., 2352.],\n",
       "        [ 154.,  308.],\n",
       "        [ 546., 1092.],\n",
       "        [ 966., 1932.],\n",
       "        [   0.,    0.],\n",
       "        [   0.,    0.],\n",
       "        [2450., 4900.],\n",
       "        [2646., 5292.],\n",
       "        [1414., 2828.],\n",
       "        [2590., 5180.],\n",
       "        [1484., 2968.],\n",
       "        [1960., 3920.],\n",
       "        [2730., 5460.],\n",
       "        [1414., 2828.],\n",
       "        [ 938., 1876.],\n",
       "        [2520., 5040.]],\n",
       "\n",
       "       [[   0.,    0.],\n",
       "        [1092., 2184.],\n",
       "        [ 416.,  832.],\n",
       "        [ 585., 1170.],\n",
       "        [1365., 2730.],\n",
       "        [  13.,   26.],\n",
       "        [ 780., 1560.],\n",
       "        [   0.,    0.],\n",
       "        [1378., 2756.],\n",
       "        [1885., 3770.],\n",
       "        [1976., 3952.],\n",
       "        [2613., 5226.],\n",
       "        [1469., 2938.],\n",
       "        [2158., 4316.],\n",
       "        [1313., 2626.],\n",
       "        [1300., 2600.],\n",
       "        [2691., 5382.]],\n",
       "\n",
       "       [[   0.,    0.],\n",
       "        [ 804., 1608.],\n",
       "        [ 396.,  792.],\n",
       "        [ 492.,  984.],\n",
       "        [ 744., 1488.],\n",
       "        [ 108.,  216.],\n",
       "        [ 660., 1320.],\n",
       "        [2496., 4992.],\n",
       "        [3684., 7368.],\n",
       "        [ 288.,  576.],\n",
       "        [1236., 2472.],\n",
       "        [1248., 2496.],\n",
       "        [3876., 7752.],\n",
       "        [1092., 2184.],\n",
       "        [1812., 3624.],\n",
       "        [ 648., 1296.],\n",
       "        [2640., 5280.]],\n",
       "\n",
       "       [[   0.,    0.],\n",
       "        [ 847., 1694.],\n",
       "        [ 979., 1958.],\n",
       "        [1738., 3476.],\n",
       "        [2090., 4180.],\n",
       "        [1375., 2750.],\n",
       "        [1518., 3036.],\n",
       "        [1782., 3564.],\n",
       "        [1210., 2420.],\n",
       "        [1804., 3608.],\n",
       "        [1562., 3124.],\n",
       "        [1496., 2992.],\n",
       "        [1628., 3256.],\n",
       "        [1111., 2222.],\n",
       "        [ 616., 1232.],\n",
       "        [1441., 2882.],\n",
       "        [ 220.,  440.]],\n",
       "\n",
       "       [[   0.,    0.],\n",
       "        [1510., 3020.],\n",
       "        [ 760., 1520.],\n",
       "        [1130., 2260.],\n",
       "        [   0.,    0.],\n",
       "        [ 370.,  740.],\n",
       "        [   0.,    0.],\n",
       "        [ 920., 1840.],\n",
       "        [  40.,   80.],\n",
       "        [  20.,   40.],\n",
       "        [  90.,  180.],\n",
       "        [   0.,    0.],\n",
       "        [   0.,    0.],\n",
       "        [1050., 2100.],\n",
       "        [   0.,    0.],\n",
       "        [ 880., 1760.],\n",
       "        [  80.,  160.]],\n",
       "\n",
       "       [[   0.,    0.],\n",
       "        [ 999., 1998.],\n",
       "        [ 972., 1944.],\n",
       "        [1350., 2700.],\n",
       "        [3771., 7542.],\n",
       "        [ 855., 1710.],\n",
       "        [1494., 2988.],\n",
       "        [   0.,    0.],\n",
       "        [2070., 4140.],\n",
       "        [2052., 4104.],\n",
       "        [2124., 4248.],\n",
       "        [2232., 4464.],\n",
       "        [2394., 4788.],\n",
       "        [   0.,    0.],\n",
       "        [ 837., 1674.],\n",
       "        [   0.,    0.],\n",
       "        [   0.,    0.]],\n",
       "\n",
       "       [[   0.,    0.],\n",
       "        [1488., 2976.],\n",
       "        [2136., 4272.],\n",
       "        [   0.,    0.],\n",
       "        [ 304.,  608.],\n",
       "        [1664., 3328.],\n",
       "        [1872., 3744.],\n",
       "        [  32.,   64.],\n",
       "        [   0.,    0.],\n",
       "        [   0.,    0.],\n",
       "        [   0.,    0.],\n",
       "        [   0.,    0.],\n",
       "        [   0.,    0.],\n",
       "        [   0.,    0.],\n",
       "        [ 400.,  800.],\n",
       "        [ 896., 1792.],\n",
       "        [2272., 4544.]],\n",
       "\n",
       "       [[   0.,    0.],\n",
       "        [ 644., 1288.],\n",
       "        [ 357.,  714.],\n",
       "        [ 511., 1022.],\n",
       "        [ 357.,  714.],\n",
       "        [   0.,    0.],\n",
       "        [  77.,  154.],\n",
       "        [1190., 2380.],\n",
       "        [1372., 2744.],\n",
       "        [1533., 3066.],\n",
       "        [1428., 2856.],\n",
       "        [1407., 2814.],\n",
       "        [1148., 2296.],\n",
       "        [1372., 2744.],\n",
       "        [1127., 2254.],\n",
       "        [1134., 2268.],\n",
       "        [2177., 4354.]],\n",
       "\n",
       "       [[   0.,    0.],\n",
       "        [1122., 2244.],\n",
       "        [1104., 2208.],\n",
       "        [1104., 2208.],\n",
       "        [1056., 2112.],\n",
       "        [1026., 2052.],\n",
       "        [1002., 2004.],\n",
       "        [1026., 2052.],\n",
       "        [1086., 2172.],\n",
       "        [ 978., 1956.],\n",
       "        [1020., 2040.],\n",
       "        [ 948., 1896.],\n",
       "        [1062., 2124.],\n",
       "        [1038., 2076.],\n",
       "        [ 942., 1884.],\n",
       "        [ 978., 1956.],\n",
       "        [2070., 4140.]],\n",
       "\n",
       "       [[   0.,    0.],\n",
       "        [ 795., 1590.],\n",
       "        [ 825., 1650.],\n",
       "        [ 825., 1650.],\n",
       "        [ 810., 1620.],\n",
       "        [ 860., 1720.],\n",
       "        [ 895., 1790.],\n",
       "        [ 810., 1620.],\n",
       "        [ 855., 1710.],\n",
       "        [ 900., 1800.],\n",
       "        [ 800., 1600.],\n",
       "        [ 895., 1790.],\n",
       "        [ 850., 1700.],\n",
       "        [ 810., 1620.],\n",
       "        [ 860., 1720.],\n",
       "        [ 880., 1760.],\n",
       "        [1680., 3360.]],\n",
       "\n",
       "       [[   0.,    0.],\n",
       "        [ 676., 1352.],\n",
       "        [ 652., 1304.],\n",
       "        [ 664., 1328.],\n",
       "        [ 664., 1328.],\n",
       "        [ 680., 1360.],\n",
       "        [ 600., 1200.],\n",
       "        [ 664., 1328.],\n",
       "        [ 648., 1296.],\n",
       "        [ 608., 1216.],\n",
       "        [ 700., 1400.],\n",
       "        [ 652., 1304.],\n",
       "        [ 684., 1368.],\n",
       "        [ 676., 1352.],\n",
       "        [ 684., 1368.],\n",
       "        [ 620., 1240.],\n",
       "        [1408., 2816.]],\n",
       "\n",
       "       [[   0.,    0.],\n",
       "        [ 309.,  618.],\n",
       "        [ 447.,  894.],\n",
       "        [ 447.,  894.],\n",
       "        [ 414.,  828.],\n",
       "        [ 489.,  978.],\n",
       "        [ 507., 1014.],\n",
       "        [ 495.,  990.],\n",
       "        [ 519., 1038.],\n",
       "        [ 495.,  990.],\n",
       "        [ 516., 1032.],\n",
       "        [ 453.,  906.],\n",
       "        [ 519., 1038.],\n",
       "        [ 525., 1050.],\n",
       "        [ 537., 1074.],\n",
       "        [ 504., 1008.],\n",
       "        [1023., 2046.]],\n",
       "\n",
       "       [[   0.,    0.],\n",
       "        [ 326.,  652.],\n",
       "        [ 352.,  704.],\n",
       "        [ 386.,  772.],\n",
       "        [ 368.,  736.],\n",
       "        [ 354.,  708.],\n",
       "        [ 314.,  628.],\n",
       "        [ 306.,  612.],\n",
       "        [ 334.,  668.],\n",
       "        [ 364.,  728.],\n",
       "        [ 342.,  684.],\n",
       "        [ 384.,  768.],\n",
       "        [ 334.,  668.],\n",
       "        [ 320.,  640.],\n",
       "        [ 324.,  648.],\n",
       "        [ 352.,  704.],\n",
       "        [ 662., 1324.]],\n",
       "\n",
       "       [[   0.,    0.],\n",
       "        [ 363.,  726.],\n",
       "        [ 352.,  704.],\n",
       "        [ 350.,  700.],\n",
       "        [ 348.,  696.],\n",
       "        [ 364.,  728.],\n",
       "        [ 346.,  692.],\n",
       "        [ 350.,  700.],\n",
       "        [ 358.,  716.],\n",
       "        [ 360.,  720.],\n",
       "        [ 347.,  694.],\n",
       "        [ 345.,  690.],\n",
       "        [ 356.,  712.],\n",
       "        [ 357.,  714.],\n",
       "        [ 346.,  692.],\n",
       "        [ 338.,  676.],\n",
       "        [ 506., 1012.]]])"
      ]
     },
     "execution_count": 712,
     "metadata": {},
     "output_type": "execute_result"
    }
   ],
   "source": [
    "g"
   ]
  },
  {
   "cell_type": "markdown",
   "id": "7fb80472",
   "metadata": {},
   "source": [
    "5. Flattening (unraveling) function:"
   ]
  },
  {
   "cell_type": "code",
   "execution_count": 713,
   "id": "3de740ed",
   "metadata": {},
   "outputs": [
    {
     "data": {
      "text/plain": [
       "(578,)"
      ]
     },
     "execution_count": 713,
     "metadata": {},
     "output_type": "execute_result"
    }
   ],
   "source": [
    "np.ravel(g).shape"
   ]
  },
  {
   "cell_type": "code",
   "execution_count": 714,
   "id": "8e66e675",
   "metadata": {},
   "outputs": [],
   "source": [
    "g=np.reshape(np.ravel(g), (np.ravel(g).shape[0],1))"
   ]
  },
  {
   "cell_type": "code",
   "execution_count": 715,
   "id": "74cbaa3c",
   "metadata": {},
   "outputs": [
    {
     "data": {
      "text/plain": [
       "(578, 1)"
      ]
     },
     "execution_count": 715,
     "metadata": {},
     "output_type": "execute_result"
    }
   ],
   "source": [
    "g.shape"
   ]
  },
  {
   "cell_type": "markdown",
   "id": "19cf1c36",
   "metadata": {},
   "source": [
    "6.Multilayer Perceptron (MLP) function (Fully Connected):"
   ]
  },
  {
   "cell_type": "code",
   "execution_count": 716,
   "id": "0cc81b4c",
   "metadata": {},
   "outputs": [],
   "source": [
    "def activation(a1,a,param):\n",
    "    if a1=='sigmoid':\n",
    "        return 1/(1 + np.exp(-a))\n",
    "    if a1=='tanh':\n",
    "        return np.tanh(a)\n",
    "    if a1=='RELU':\n",
    "        a[a<=0]=0\n",
    "        return a\n",
    "    if a1=='PRELU':\n",
    "        a[a<=0]=param*a[a<=0]\n",
    "        return a"
   ]
  },
  {
   "cell_type": "code",
   "execution_count": 717,
   "id": "400f90ca",
   "metadata": {},
   "outputs": [],
   "source": [
    "def mlp(input_vec,no_of_h,size_of_h,nonfun,size_of_output):\n",
    "    r=input_vec\n",
    "    print(r.shape)\n",
    "    s=np.random.randn(r.shape[0],size_of_h)\n",
    "    input_lo=np.dot(np.transpose(r),s)\n",
    "    input_lo=activation(nonfun,input_lo,0.2)\n",
    "    print(input_lo.shape)\n",
    "    input_lo=np.transpose(input_lo)\n",
    "    s1=np.random.randn(input_lo.shape[0],size_of_output)\n",
    "    output_ml=np.dot(np.transpose(input_lo),s1)\n",
    "    output_ml=activation(nonfun,output_ml,0.2)\n",
    "    print(output_ml.shape)\n",
    "    return output_ml"
   ]
  },
  {
   "cell_type": "code",
   "execution_count": 718,
   "id": "105c364a",
   "metadata": {},
   "outputs": [
    {
     "name": "stdout",
     "output_type": "stream",
     "text": [
      "(578, 1)\n",
      "(1, 30)\n",
      "(1, 10)\n"
     ]
    },
    {
     "name": "stderr",
     "output_type": "stream",
     "text": [
      "<ipython-input-716-74b4c6560d66>:3: RuntimeWarning: overflow encountered in exp\n",
      "  return 1/(1 + np.exp(-a))\n"
     ]
    },
    {
     "data": {
      "text/plain": [
       "array([[0.93248984, 0.80862443, 0.87793485, 0.0200274 , 0.22709572,\n",
       "        0.7306867 , 0.00684246, 0.00558051, 0.23305675, 0.95686116]])"
      ]
     },
     "execution_count": 718,
     "metadata": {},
     "output_type": "execute_result"
    }
   ],
   "source": [
    "mlp(g,1,30,\"sigmoid\",10)"
   ]
  },
  {
   "cell_type": "code",
   "execution_count": 719,
   "id": "9d5d14a7",
   "metadata": {},
   "outputs": [],
   "source": [
    " def softmax(a):\n",
    "    exp=np.exp(a) \n",
    "    ans=exp/np.sum(exp,axis=1,keepdims=True)\n",
    "    return ans"
   ]
  },
  {
   "cell_type": "code",
   "execution_count": 720,
   "id": "07f5cdcb",
   "metadata": {},
   "outputs": [],
   "source": [
    "def mlp_with_softmax(input_vec,no_of_h,size_of_h,nonfun,size_of_output):\n",
    "    r=input_vec\n",
    "    s=np.random.randn(r.shape[0],size_of_h)\n",
    "    input_lo=np.dot(np.transpose(r),s)\n",
    "    input_lo=activation(nonfun,input_lo,0.2)\n",
    "    input_lo=np.transpose(input_lo)\n",
    "    s1=np.random.randn(input_lo.shape[0],size_of_output)\n",
    "    output_ml=np.dot(np.transpose(input_lo),s1)\n",
    "    output_ml=activation(nonfun,output_ml,0.2)\n",
    "    return softmax(output_ml)"
   ]
  },
  {
   "cell_type": "code",
   "execution_count": 721,
   "id": "591f595e",
   "metadata": {},
   "outputs": [
    {
     "name": "stderr",
     "output_type": "stream",
     "text": [
      "<ipython-input-716-74b4c6560d66>:3: RuntimeWarning: overflow encountered in exp\n",
      "  return 1/(1 + np.exp(-a))\n"
     ]
    },
    {
     "data": {
      "text/plain": [
       "array([[0.08990579, 0.07856492, 0.07828337, 0.07808755, 0.07854401,\n",
       "        0.08229105, 0.20896859, 0.07809074, 0.08284233, 0.14442165]])"
      ]
     },
     "execution_count": 721,
     "metadata": {},
     "output_type": "execute_result"
    }
   ],
   "source": [
    "mlp_with_softmax(g,1,300,\"sigmoid\",10)"
   ]
  },
  {
   "cell_type": "markdown",
   "id": "97e92922",
   "metadata": {},
   "source": [
    "7. Feed-forward path:"
   ]
  },
  {
   "cell_type": "code",
   "execution_count": 722,
   "id": "14a2d427",
   "metadata": {},
   "outputs": [
    {
     "name": "stdout",
     "output_type": "stream",
     "text": [
      "(32, 32, 3)\n"
     ]
    },
    {
     "data": {
      "text/plain": [
       "<matplotlib.image.AxesImage at 0x2444a806ca0>"
      ]
     },
     "execution_count": 722,
     "metadata": {},
     "output_type": "execute_result"
    },
    {
     "data": {
      "image/png": "[encoded data removed]",
      "text/plain": [
       "<Figure size 576x432 with 1 Axes>"
      ]
     },
     "metadata": {
      "needs_background": "light"
     },
     "output_type": "display_data"
    }
   ],
   "source": [
    "kernelf=np.random.randn(3,3,3,16)\n",
    "kernelf1=np.random.randn(3,3,16,8)\n",
    "image2=a2['data'][1]\n",
    "image2=image2.reshape(3,32,32)\n",
    "image2.shape\n",
    "image2=image2.transpose(1,2,0)\n",
    "print(image2.shape)\n",
    "plt.imshow(image2)"
   ]
  },
  {
   "cell_type": "code",
   "execution_count": 723,
   "id": "d68f9518",
   "metadata": {},
   "outputs": [],
   "source": [
    "def feed_forward_path(pic):\n",
    "    pic=pic.reshape(3,32,32)\n",
    "    pic.shape\n",
    "    pic=pic.transpose(1,2,0)\n",
    "    plt.imshow(pic)\n",
    "    oc1=convolutionlayer(pic,kernelf,2,2,'sigmoid')\n",
    "    pic=pic.reshape(3,32,32)\n",
    "    pic=pic.transpose(1,2,0)\n",
    "    pl1=poolinglayer(oc1,'max',2,2)\n",
    "    oc2=convolutionlayer(pl1,kernelf1,2,2,'sigmoid')\n",
    "    pl2=poolinglayer(oc2,'max',2,2)\n",
    "    np.ravel(pl2).shape[0]\n",
    "    unravelled=np.reshape(np.ravel(pl2), (np.ravel(pl2).shape[0],1))\n",
    "    fop=mlp_with_softmax(unravelled,1,400,'sigmoid',10)\n",
    "    \n",
    "    return fop"
   ]
  },
  {
   "cell_type": "code",
   "execution_count": 724,
   "id": "b96d12ce",
   "metadata": {},
   "outputs": [
    {
     "name": "stderr",
     "output_type": "stream",
     "text": [
      "<ipython-input-694-02122e83ec8d>:3: RuntimeWarning: overflow encountered in exp\n",
      "  return 1/(1 + np.exp(-a))\n"
     ]
    },
    {
     "data": {
      "text/plain": [
       "array([[0.05923524, 0.16095844, 0.16099037, 0.16099036, 0.05926017,\n",
       "        0.15890695, 0.05922511, 0.05922639, 0.05922505, 0.06198193]])"
      ]
     },
     "execution_count": 724,
     "metadata": {},
     "output_type": "execute_result"
    },
    {
     "data": {
      "image/png": "[encoded data removed]",
      "text/plain": [
       "<Figure size 576x432 with 1 Axes>"
      ]
     },
     "metadata": {
      "needs_background": "light"
     },
     "output_type": "display_data"
    }
   ],
   "source": [
    "final=feed_forward_path(a2['data'][3])\n",
    "final"
   ]
  },
  {
   "cell_type": "markdown",
   "id": "d64f700d",
   "metadata": {},
   "source": [
    "8. (a)"
   ]
  },
  {
   "cell_type": "code",
   "execution_count": 725,
   "id": "ed2bbf84",
   "metadata": {},
   "outputs": [],
   "source": [
    "z=np.unique(training_labels,return_index=True)"
   ]
  },
  {
   "cell_type": "code",
   "execution_count": 726,
   "id": "b02d7c2e",
   "metadata": {},
   "outputs": [
    {
     "data": {
      "text/plain": [
       "array([ 8,  0, 18,  5,  6, 14,  1, 28,  3, 30], dtype=int64)"
      ]
     },
     "execution_count": 726,
     "metadata": {},
     "output_type": "execute_result"
    }
   ],
   "source": [
    "list(z)[1]\n"
   ]
  },
  {
   "cell_type": "code",
   "execution_count": 727,
   "id": "ea8b9505",
   "metadata": {},
   "outputs": [
    {
     "name": "stderr",
     "output_type": "stream",
     "text": [
      "<ipython-input-694-02122e83ec8d>:3: RuntimeWarning: overflow encountered in exp\n",
      "  return 1/(1 + np.exp(-a))\n"
     ]
    },
    {
     "data": {
      "text/plain": [
       "array([[0.08620107, 0.15623482, 0.05778294, 0.05749382, 0.06096634,\n",
       "        0.15381259, 0.05749987, 0.15623288, 0.15628195, 0.05749372]])"
      ]
     },
     "execution_count": 727,
     "metadata": {},
     "output_type": "execute_result"
    },
    {
     "data": {
      "image/png": "[encoded data removed]",
      "text/plain": [
       "<Figure size 576x432 with 1 Axes>"
      ]
     },
     "metadata": {
      "needs_background": "light"
     },
     "output_type": "display_data"
    }
   ],
   "source": [
    "feed_forward_path(a2['data'][8])"
   ]
  },
  {
   "cell_type": "code",
   "execution_count": 728,
   "id": "cf710a0c",
   "metadata": {},
   "outputs": [
    {
     "name": "stderr",
     "output_type": "stream",
     "text": [
      "<ipython-input-694-02122e83ec8d>:3: RuntimeWarning: overflow encountered in exp\n",
      "  return 1/(1 + np.exp(-a))\n"
     ]
    },
    {
     "data": {
      "text/plain": [
       "array([[0.07658628, 0.07655575, 0.0765559 , 0.07655715, 0.07655575,\n",
       "        0.07655575, 0.20810011, 0.07658589, 0.16878887, 0.08715854]])"
      ]
     },
     "execution_count": 728,
     "metadata": {},
     "output_type": "execute_result"
    },
    {
     "data": {
      "image/png": "[encoded data removed]",
      "text/plain": [
       "<Figure size 576x432 with 1 Axes>"
      ]
     },
     "metadata": {
      "needs_background": "light"
     },
     "output_type": "display_data"
    }
   ],
   "source": [
    "feed_forward_path(a2['data'][0])"
   ]
  },
  {
   "cell_type": "code",
   "execution_count": 729,
   "id": "ee9c48c6",
   "metadata": {},
   "outputs": [
    {
     "name": "stderr",
     "output_type": "stream",
     "text": [
      "<ipython-input-694-02122e83ec8d>:3: RuntimeWarning: overflow encountered in exp\n",
      "  return 1/(1 + np.exp(-a))\n"
     ]
    },
    {
     "data": {
      "text/plain": [
       "array([[0.05790555, 0.15682814, 0.14051191, 0.06973048, 0.15644061,\n",
       "        0.05769385, 0.07338991, 0.05823933, 0.15682814, 0.07243209]])"
      ]
     },
     "execution_count": 729,
     "metadata": {},
     "output_type": "execute_result"
    },
    {
     "data": {
      "image/png": "[encoded data removed]",
      "text/plain": [
       "<Figure size 576x432 with 1 Axes>"
      ]
     },
     "metadata": {
      "needs_background": "light"
     },
     "output_type": "display_data"
    }
   ],
   "source": [
    "feed_forward_path(a2['data'][18])"
   ]
  },
  {
   "cell_type": "code",
   "execution_count": 730,
   "id": "348c15e6",
   "metadata": {},
   "outputs": [
    {
     "name": "stderr",
     "output_type": "stream",
     "text": [
      "<ipython-input-694-02122e83ec8d>:3: RuntimeWarning: overflow encountered in exp\n",
      "  return 1/(1 + np.exp(-a))\n"
     ]
    },
    {
     "data": {
      "text/plain": [
       "array([[0.04619716, 0.12355559, 0.1235553 , 0.08117492, 0.12274581,\n",
       "        0.12355544, 0.12355207, 0.04545356, 0.08677452, 0.12343564]])"
      ]
     },
     "execution_count": 730,
     "metadata": {},
     "output_type": "execute_result"
    },
    {
     "data": {
      "image/png": "[encoded data removed]",
      "text/plain": [
       "<Figure size 576x432 with 1 Axes>"
      ]
     },
     "metadata": {
      "needs_background": "light"
     },
     "output_type": "display_data"
    }
   ],
   "source": [
    "feed_forward_path(a2['data'][5])"
   ]
  },
  {
   "cell_type": "code",
   "execution_count": 731,
   "id": "d9a29a71",
   "metadata": {},
   "outputs": [
    {
     "name": "stderr",
     "output_type": "stream",
     "text": [
      "<ipython-input-694-02122e83ec8d>:3: RuntimeWarning: overflow encountered in exp\n",
      "  return 1/(1 + np.exp(-a))\n"
     ]
    },
    {
     "data": {
      "text/plain": [
       "array([[0.1484702 , 0.14561055, 0.14847006, 0.05461915, 0.05477526,\n",
       "        0.07643532, 0.0546228 , 0.14845419, 0.11388307, 0.05465941]])"
      ]
     },
     "execution_count": 731,
     "metadata": {},
     "output_type": "execute_result"
    },
    {
     "data": {
      "image/png": "[encoded data removed]",
      "text/plain": [
       "<Figure size 576x432 with 1 Axes>"
      ]
     },
     "metadata": {
      "needs_background": "light"
     },
     "output_type": "display_data"
    }
   ],
   "source": [
    "feed_forward_path(a2['data'][6])"
   ]
  },
  {
   "cell_type": "code",
   "execution_count": 732,
   "id": "4f7f2904",
   "metadata": {},
   "outputs": [
    {
     "name": "stderr",
     "output_type": "stream",
     "text": [
      "<ipython-input-694-02122e83ec8d>:3: RuntimeWarning: overflow encountered in exp\n",
      "  return 1/(1 + np.exp(-a))\n"
     ]
    },
    {
     "data": {
      "text/plain": [
       "array([[0.06059847, 0.06051297, 0.16448839, 0.16417694, 0.06051297,\n",
       "        0.06051296, 0.06051296, 0.06051308, 0.16448313, 0.14368812]])"
      ]
     },
     "execution_count": 732,
     "metadata": {},
     "output_type": "execute_result"
    },
    {
     "data": {
      "image/png": "[encoded data removed]",
      "text/plain": [
       "<Figure size 576x432 with 1 Axes>"
      ]
     },
     "metadata": {
      "needs_background": "light"
     },
     "output_type": "display_data"
    }
   ],
   "source": [
    "feed_forward_path(a2['data'][14])"
   ]
  },
  {
   "cell_type": "code",
   "execution_count": 733,
   "id": "755865fc",
   "metadata": {},
   "outputs": [
    {
     "name": "stderr",
     "output_type": "stream",
     "text": [
      "<ipython-input-694-02122e83ec8d>:3: RuntimeWarning: overflow encountered in exp\n",
      "  return 1/(1 + np.exp(-a))\n"
     ]
    },
    {
     "data": {
      "text/plain": [
       "array([[0.05830226, 0.0531035 , 0.11866359, 0.1342334 , 0.13423345,\n",
       "        0.04938177, 0.13423342, 0.13423345, 0.04938182, 0.13423334]])"
      ]
     },
     "execution_count": 733,
     "metadata": {},
     "output_type": "execute_result"
    },
    {
     "data": {
      "image/png": "[encoded data removed]",
      "text/plain": [
       "<Figure size 576x432 with 1 Axes>"
      ]
     },
     "metadata": {
      "needs_background": "light"
     },
     "output_type": "display_data"
    }
   ],
   "source": [
    "feed_forward_path(a2['data'][1])"
   ]
  },
  {
   "cell_type": "code",
   "execution_count": 734,
   "id": "2ad2a50a",
   "metadata": {},
   "outputs": [
    {
     "name": "stderr",
     "output_type": "stream",
     "text": [
      "<ipython-input-694-02122e83ec8d>:3: RuntimeWarning: overflow encountered in exp\n",
      "  return 1/(1 + np.exp(-a))\n"
     ]
    },
    {
     "data": {
      "text/plain": [
       "array([[0.13244764, 0.13215551, 0.04872519, 0.04872476, 0.04872477,\n",
       "        0.13244764, 0.13244741, 0.13244759, 0.1324473 , 0.05943219]])"
      ]
     },
     "execution_count": 734,
     "metadata": {},
     "output_type": "execute_result"
    },
    {
     "data": {
      "image/png": "[encoded data removed]",
      "text/plain": [
       "<Figure size 576x432 with 1 Axes>"
      ]
     },
     "metadata": {
      "needs_background": "light"
     },
     "output_type": "display_data"
    }
   ],
   "source": [
    "feed_forward_path(a2['data'][28])"
   ]
  },
  {
   "cell_type": "code",
   "execution_count": 735,
   "id": "eafd82f6",
   "metadata": {},
   "outputs": [
    {
     "name": "stderr",
     "output_type": "stream",
     "text": [
      "<ipython-input-694-02122e83ec8d>:3: RuntimeWarning: overflow encountered in exp\n",
      "  return 1/(1 + np.exp(-a))\n"
     ]
    },
    {
     "data": {
      "text/plain": [
       "array([[0.1142902 , 0.04207935, 0.11283037, 0.11436006, 0.11435887,\n",
       "        0.11435995, 0.04470276, 0.11436007, 0.11436008, 0.11429829]])"
      ]
     },
     "execution_count": 735,
     "metadata": {},
     "output_type": "execute_result"
    },
    {
     "data": {
      "image/png": "[encoded data removed]",
      "text/plain": [
       "<Figure size 576x432 with 1 Axes>"
      ]
     },
     "metadata": {
      "needs_background": "light"
     },
     "output_type": "display_data"
    }
   ],
   "source": [
    "feed_forward_path(a2['data'][3])"
   ]
  },
  {
   "cell_type": "code",
   "execution_count": 736,
   "id": "16716b08",
   "metadata": {},
   "outputs": [
    {
     "name": "stderr",
     "output_type": "stream",
     "text": [
      "<ipython-input-694-02122e83ec8d>:3: RuntimeWarning: overflow encountered in exp\n",
      "  return 1/(1 + np.exp(-a))\n"
     ]
    },
    {
     "data": {
      "text/plain": [
       "array([[0.06521637, 0.05630812, 0.05640442, 0.05630812, 0.15306135,\n",
       "        0.06996315, 0.15306134, 0.15306132, 0.15306135, 0.08355444]])"
      ]
     },
     "execution_count": 736,
     "metadata": {},
     "output_type": "execute_result"
    },
    {
     "data": {
      "image/png": "[encoded data removed]",
      "text/plain": [
       "<Figure size 576x432 with 1 Axes>"
      ]
     },
     "metadata": {
      "needs_background": "light"
     },
     "output_type": "display_data"
    }
   ],
   "source": [
    "feed_forward_path(a2['data'][30])"
   ]
  },
  {
   "cell_type": "markdown",
   "id": "bb496283",
   "metadata": {},
   "source": [
    "8. (b)"
   ]
  },
  {
   "cell_type": "code",
   "execution_count": 737,
   "id": "9989783a",
   "metadata": {},
   "outputs": [],
   "source": [
    "z1=np.unique(training_labels,return_index=True)"
   ]
  },
  {
   "cell_type": "code",
   "execution_count": 738,
   "id": "0af98dc5",
   "metadata": {},
   "outputs": [
    {
     "data": {
      "text/plain": [
       "(array([0, 1, 2, 3, 4, 5, 6, 7, 8, 9]),\n",
       " array([ 8,  0, 18,  5,  6, 14,  1, 28,  3, 30], dtype=int64))"
      ]
     },
     "execution_count": 738,
     "metadata": {},
     "output_type": "execute_result"
    }
   ],
   "source": [
    "z1"
   ]
  },
  {
   "cell_type": "code",
   "execution_count": 739,
   "id": "87bb285a",
   "metadata": {},
   "outputs": [
    {
     "data": {
      "text/plain": [
       "array([[ 8, 10, 20],\n",
       "       [ 0, 22, 35],\n",
       "       [18, 27, 57],\n",
       "       [ 5, 11, 17],\n",
       "       [ 6, 15, 23],\n",
       "       [14, 33, 60],\n",
       "       [ 1,  2,  7],\n",
       "       [28, 34, 37],\n",
       "       [ 3,  4, 16],\n",
       "       [30, 38, 56]], dtype=uint16)"
      ]
     },
     "execution_count": 739,
     "metadata": {},
     "output_type": "execute_result"
    }
   ],
   "source": [
    "index=np.zeros((10,3),dtype=\"u2\")\n",
    "for j in range(10):\n",
    "    flag=0\n",
    "    for i in range(200):\n",
    "        if(training_labels[i]==j and flag<3):\n",
    "            index[j][flag]=i\n",
    "            flag+=1\n",
    "        if(flag>3):\n",
    "            break\n",
    "index\n"
   ]
  },
  {
   "cell_type": "code",
   "execution_count": 740,
   "id": "bc38d594",
   "metadata": {},
   "outputs": [],
   "source": [
    "def unravelled(pic):\n",
    "    pic=pic.reshape(3,32,32)\n",
    "    pic.shape\n",
    "    pic=pic.transpose(1,2,0)\n",
    "    oc1=convolutionlayer(pic,kernelf,2,2,'sigmoid')\n",
    "    pic=pic.reshape(3,32,32)\n",
    "    pic=pic.transpose(1,2,0)\n",
    "    pl1=poolinglayer(oc1,'max',2,2)\n",
    "    oc2=convolutionlayer(pl1,kernelf1,2,2,'sigmoid')\n",
    "    pl2=poolinglayer(oc2,'max',2,2)\n",
    "    np.ravel(pl2).shape[0]\n",
    "    unravelled=np.reshape(np.ravel(pl2), (np.ravel(pl2).shape[0],1))\n",
    "    return unravelled"
   ]
  },
  {
   "cell_type": "code",
   "execution_count": 741,
   "id": "290ca66c",
   "metadata": {},
   "outputs": [
    {
     "name": "stderr",
     "output_type": "stream",
     "text": [
      "<ipython-input-694-02122e83ec8d>:3: RuntimeWarning: overflow encountered in exp\n",
      "  return 1/(1 + np.exp(-a))\n"
     ]
    },
    {
     "data": {
      "text/plain": [
       "(800, 1)"
      ]
     },
     "execution_count": 741,
     "metadata": {},
     "output_type": "execute_result"
    }
   ],
   "source": [
    "unravelled(a2['data'][30]).shape"
   ]
  },
  {
   "cell_type": "code",
   "execution_count": 742,
   "id": "a65e834e",
   "metadata": {},
   "outputs": [],
   "source": [
    "def func():\n",
    "    arr=np.zeros((800,30))\n",
    "    k=0\n",
    "    for j in range(10):\n",
    "        for i in range(3):\n",
    "            m=index[j][i]\n",
    "            image = a2['data'][m]\n",
    "            flatten=unravelled(image).reshape(800)\n",
    "            arr[:,k]=flatten\n",
    "            k=k+1\n",
    "    return arr"
   ]
  },
  {
   "cell_type": "code",
   "execution_count": 743,
   "id": "6c22d967",
   "metadata": {},
   "outputs": [
    {
     "name": "stderr",
     "output_type": "stream",
     "text": [
      "<ipython-input-694-02122e83ec8d>:3: RuntimeWarning: overflow encountered in exp\n",
      "  return 1/(1 + np.exp(-a))\n"
     ]
    }
   ],
   "source": [
    "func1=np.transpose(func())"
   ]
  },
  {
   "cell_type": "code",
   "execution_count": 744,
   "id": "516bb873",
   "metadata": {},
   "outputs": [
    {
     "data": {
      "image/png": "[encoded data removed]",
      "text/plain": [
       "<Figure size 576x432 with 1 Axes>"
      ]
     },
     "metadata": {
      "needs_background": "light"
     },
     "output_type": "display_data"
    }
   ],
   "source": [
    "import matplotlib.pyplot as plt\n",
    "import numpy as np\n",
    "from sklearn.manifold import TSNE\n",
    "plt.rcParams[\"figure.figsize\"] = (8,6)\n",
    "x_embed = TSNE(n_components=2,init='random').fit_transform(func1)\n",
    "plt.scatter(x_embed[:,0],x_embed[:,1])\n",
    "plt.show()"
   ]
  },
  {
   "cell_type": "code",
   "execution_count": null,
   "id": "5a7c8d7a",
   "metadata": {},
   "outputs": [],
   "source": []
  }
 ],
 "metadata": {
  "kernelspec": {
   "display_name": "Python 3",
   "language": "python",
   "name": "python3"
  },
  "language_info": {
   "codemirror_mode": {
    "name": "ipython",
    "version": 3
   },
   "file_extension": ".py",
   "mimetype": "text/x-python",
   "name": "python",
   "nbconvert_exporter": "python",
   "pygments_lexer": "ipython3",
   "version": "3.8.8"
  }
 },
 "nbformat": 4,
 "nbformat_minor": 5
}
